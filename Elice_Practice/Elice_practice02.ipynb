{
  "nbformat": 4,
  "nbformat_minor": 0,
  "metadata": {
    "colab": {
      "name": "Elice_practice02.ipynb",
      "provenance": [],
      "authorship_tag": "ABX9TyME45uflIYIeBGB4r7SRNky",
      "include_colab_link": true
    },
    "kernelspec": {
      "name": "python3",
      "display_name": "Python 3"
    }
  },
  "cells": [
    {
      "cell_type": "markdown",
      "metadata": {
        "id": "view-in-github",
        "colab_type": "text"
      },
      "source": [
        "<a href=\"https://colab.research.google.com/github/gparkkii/python_practice/blob/master/Elice_practice02.ipynb\" target=\"_parent\"><img src=\"https://colab.research.google.com/assets/colab-badge.svg\" alt=\"Open In Colab\"/></a>"
      ]
    },
    {
      "cell_type": "markdown",
      "metadata": {
        "id": "LyaUZixNF1Cf",
        "colab_type": "text"
      },
      "source": [
        "# [입문선택] 인공지능 활용을 위한 파이썬 기초\n",
        "\n",
        "**02 조건문 : 진실! 혹은 거짓?**\n",
        "\n",
        "컴퓨터가 특정 조건에 따라 작업을 하게 시키려면 어떻게 해야 할까요? 파이썬의 가장 기본 '조건문'에 대해서 배워 봅니다."
      ]
    },
    {
      "cell_type": "code",
      "metadata": {
        "id": "1cPYhTlhF6p7",
        "colab_type": "code",
        "colab": {
          "base_uri": "https://localhost:8080/",
          "height": 71
        },
        "outputId": "2906feba-3648-46c1-f427-a6277caa26dd"
      },
      "source": [
        "#지난시간에 print() 로 출력을 배웠다면, 이번 시간에는 입력을 다뤄봅시다.\n",
        "\n",
        "# input()을 이용해서 입력을 넣고, 이를 변수 var에 담아봅시다.\n",
        "var = input()\n",
        "\n",
        "# 앵무새가 말을 따라합니다!\n",
        "print(\"앵무새 :\", var)\n",
        "\n",
        "# 입력한 값이 어떤 자료형인지 확인해봅시다.\n",
        "print(type(var))"
      ],
      "execution_count": 1,
      "outputs": [
        {
          "output_type": "stream",
          "text": [
            "아\n",
            "앵무새 : 아\n",
            "<class 'str'>\n"
          ],
          "name": "stdout"
        }
      ]
    },
    {
      "cell_type": "code",
      "metadata": {
        "id": "7QgxPKu2GQsL",
        "colab_type": "code",
        "colab": {
          "base_uri": "https://localhost:8080/",
          "height": 53
        },
        "outputId": "b4079ed6-5277-4ee2-b032-a7b86b04d220"
      },
      "source": [
        "#자료형을 변환해봅시다!\n",
        "#input()은 입력받은 값을 문자열(string)으로 인식합니다.\n",
        "#하지만 숫자를 입력 받아 일련의 숫자 연산을 해야하는 경우가 많기 때문에, 입력받은 자료를 형변환해줄 필요가 있습니다.\n",
        "\n",
        "#변수 money에 input을 이용해서 입력을 받아봅시다.\n",
        "money = input()\n",
        "\n",
        "# money를 int형으로 변환해서, 다시 money에 넣어줍시다.\n",
        "money = int(money)\n",
        "\n",
        "# money를 2배 불려서 print로 출력해봅시다.\n",
        "print(money*2)\n",
        "#print(type(money))"
      ],
      "execution_count": 2,
      "outputs": [
        {
          "output_type": "stream",
          "text": [
            "3789\n",
            "7578\n"
          ],
          "name": "stdout"
        }
      ]
    },
    {
      "cell_type": "code",
      "metadata": {
        "id": "c8azIfDvM5SV",
        "colab_type": "code",
        "colab": {
          "base_uri": "https://localhost:8080/",
          "height": 35
        },
        "outputId": "01e36080-19b6-4779-d7d1-3b3f14b2ac26"
      },
      "source": [
        "#비교 연산자 활용하기\n",
        "#비교 연산자는 두 자료를 비교하는 연산자입니다. 비교 연산자를 사용하면, 컴퓨터는 그 값의 결과에 따라 우리에게 True 혹은 False를 반환합니다.\n",
        "\n",
        "# Q1. == 혹은 != 연산자을 이용해서 True인 명제를 ans1에 넣어봅시다.\n",
        "ans1 = 5 == 5\n",
        "\n",
        "# Q2. > 혹은 < 연산자를 이용해서 False인 명제를 ans2에 넣어봅시다.\n",
        "ans2 = 5 < 3\n",
        "\n",
        "# Q3. >= 혹은 <= 연산자를 이용해서 True인 명제를 ans3에 넣어봅시다.\n",
        "ans3 = 4>=2\n",
        "\n",
        "# 위의 세 변수를 출력해서 True, False 여부를 확인해봅시다.\n",
        "print(ans1, ans2, ans3)"
      ],
      "execution_count": 3,
      "outputs": [
        {
          "output_type": "stream",
          "text": [
            "True False True\n"
          ],
          "name": "stdout"
        }
      ]
    },
    {
      "cell_type": "code",
      "metadata": {
        "id": "IyC_Zty2NESz",
        "colab_type": "code",
        "colab": {
          "base_uri": "https://localhost:8080/",
          "height": 35
        },
        "outputId": "be718e78-2b9f-4cca-f76f-cab0166ebc01"
      },
      "source": [
        "#논리 연산자 활용하기\n",
        "#논리 자료형을 연산하는 방법엔 AND, OR, NOT 등이 있습니다.\n",
        "\n",
        "# 괄호 안에 적절한 명제를 채워 stat1이 True가 되게 해봅시다.\n",
        "stat1 = 3==3 and 2<4 and (4!=5)\n",
        "\n",
        "# 괄호 안에 적절한 명제를 채워 stat2이 False가 되게 해봅시다.\n",
        "stat2 = 4>=6 or \"apple\"==\"Apple\" or (2==9) \n",
        "\n",
        "# 괄호 안에 적절한 명제를 채워 stat3이 True가 되게 해봅시다.\n",
        "stat3 = not (5<=1)\n",
        "\n",
        "# 위의 세 변수를 한 문장으로 출력해서 True, False 여부를 확인해봅시다.\n",
        "print(stat1,stat2,stat3)"
      ],
      "execution_count": 4,
      "outputs": [
        {
          "output_type": "stream",
          "text": [
            "True False True\n"
          ],
          "name": "stdout"
        }
      ]
    },
    {
      "cell_type": "code",
      "metadata": {
        "id": "kFejzVPgNKbO",
        "colab_type": "code",
        "colab": {
          "base_uri": "https://localhost:8080/",
          "height": 53
        },
        "outputId": "5d976df1-5d36-48dd-8140-04e19f2d5b11"
      },
      "source": [
        "#만약 ~라면 if, 아니라면 else!\n",
        "#조건을 만족해주는 경우의 명령은 if문을 통해 전달해줄 수 있고, 만족하지 못하는 경우에는 else문에 원하는 명령을 적어주면 됩니다.\n",
        "\n",
        "# input()을 이용해서 숫자(정수) 입력을 받고, 변수 num에 이를 넣어봅시다.\n",
        "num = int(input())\n",
        "\n",
        "# if-else문을 이용해서 만약 입력받은 수가 홀수면 \"(입력받은 수) 홀수입니다.\"\n",
        "# 짝수면 \"(입력받은 수) 짝수입니다.\"를 출력해봅시다.\n",
        "# 괄호는 출력하지 않습니다.\n",
        "if num %2 == 0:\n",
        "    print(num, \"짝수입니다.\")\n",
        "else:\n",
        "    print(num, \"홀수입니다.\")"
      ],
      "execution_count": 5,
      "outputs": [
        {
          "output_type": "stream",
          "text": [
            "3\n",
            "3 홀수입니다.\n"
          ],
          "name": "stdout"
        }
      ]
    },
    {
      "cell_type": "code",
      "metadata": {
        "id": "es6uTAC-NUcc",
        "colab_type": "code",
        "colab": {
          "base_uri": "https://localhost:8080/",
          "height": 53
        },
        "outputId": "f95b72f1-6c37-4272-dec4-f14f279dbc11"
      },
      "source": [
        "#A는 아니지만 B라면? elif!\n",
        "#elif는 else if의 약어로, 아닌 것중에 만약~ 의 조건을 세워주는 역할을 합니다.\n",
        "\n",
        "# 변수 answer에 수 1~50 중 하나를 넣어봅시다.\n",
        "answer = 23\n",
        "\n",
        "# input으로 숫자 입력을 받아서 변수 submit에 저장해봅시다.\n",
        "submit = int(input())\n",
        "\n",
        "# if-elif-else문으로 Up-Down Game을 구현해봅시다.\n",
        "# 만약 answer보다 submit이 더 크면 \"정답보다 더 큰 수를 입력했습니다.\"\n",
        "# 만약 answer보다 submit이 더 작으면 \"정답보다 더 작은 수를 입력했습니다.\"\n",
        "# 만약 answer와 submit이 같으면 \"정답!\" 를 출력합니다.\n",
        "\n",
        "if answer < submit:\n",
        "    print(\"정답보다 더 큰 수를 입력했습니다.\")\n",
        "elif answer > submit:\n",
        "    print(\"정답보다 더 작은 수를 입력했습니다.\")\n",
        "else:\n",
        "    print(\"정답!\")"
      ],
      "execution_count": 6,
      "outputs": [
        {
          "output_type": "stream",
          "text": [
            "6\n",
            "정답보다 더 작은 수를 입력했습니다.\n"
          ],
          "name": "stdout"
        }
      ]
    },
    {
      "cell_type": "code",
      "metadata": {
        "id": "1xBjwxWjNqFX",
        "colab_type": "code",
        "colab": {
          "base_uri": "https://localhost:8080/",
          "height": 53
        },
        "outputId": "92426886-fb5c-4bc4-e153-b87b5f21e319"
      },
      "source": [
        "# Practice Question 01\n",
        "\n",
        "# 변수 num을 선언하고, 숫자형으로 입력을 받습니다.\n",
        "num = int(input())\n",
        "\n",
        "# if-elif-else문을 이용해서 조건에 따라 출력합니다.\n",
        "# 왼쪽에 있는 조건에 따라 자리수를 출력해봅시다.\n",
        "\n",
        "if num < 10:\n",
        "    print(\"한 자리 숫자입니다.\")\n",
        "elif num < 100:\n",
        "    print(\"두 자리 숫자입니다.\")\n",
        "else:\n",
        "    print(\"세 자리 숫자입니다.\")"
      ],
      "execution_count": 7,
      "outputs": [
        {
          "output_type": "stream",
          "text": [
            "36\n",
            "두 자리 숫자입니다.\n"
          ],
          "name": "stdout"
        }
      ]
    },
    {
      "cell_type": "code",
      "metadata": {
        "id": "Slj2rjZFN2ta",
        "colab_type": "code",
        "colab": {
          "base_uri": "https://localhost:8080/",
          "height": 53
        },
        "outputId": "22e4cce2-ddf1-4422-c2dd-59c5f6da9f7a"
      },
      "source": [
        "# Practice Question 02\n",
        "#주어진 미션을 수행해볼까요?\n",
        "grade = int(input())\n",
        "\n",
        "if grade >= 88:\n",
        "    print(\"A+\")\n",
        "elif grade >= 77:\n",
        "    print(\"A0\")\n",
        "elif grade == 0:\n",
        "    print(\"F\")\n",
        "else:\n",
        "    print(\"B+\")"
      ],
      "execution_count": 8,
      "outputs": [
        {
          "output_type": "stream",
          "text": [
            "93\n",
            "A+\n"
          ],
          "name": "stdout"
        }
      ]
    }
  ]
}