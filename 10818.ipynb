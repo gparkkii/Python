{
  "nbformat": 4,
  "nbformat_minor": 0,
  "metadata": {
    "colab": {
      "name": "10818",
      "provenance": [],
      "authorship_tag": "ABX9TyOm13DzrkUrLo9UGe8NbGnj",
      "include_colab_link": true
    },
    "kernelspec": {
      "name": "python3",
      "display_name": "Python 3"
    }
  },
  "cells": [
    {
      "cell_type": "markdown",
      "metadata": {
        "id": "view-in-github",
        "colab_type": "text"
      },
      "source": [
        "<a href=\"https://colab.research.google.com/github/gparkkii/python_practice/blob/master/10818.ipynb\" target=\"_parent\"><img src=\"https://colab.research.google.com/assets/colab-badge.svg\" alt=\"Open In Colab\"/></a>"
      ]
    },
    {
      "cell_type": "code",
      "metadata": {
        "id": "ig43ckGl-a9Q",
        "outputId": "2288b37b-e569-4345-d0cb-adcda095228a",
        "colab": {
          "base_uri": "https://localhost:8080/",
          "height": 71
        }
      },
      "source": [
        "# N개의 정수가 주어진다. 이때, 최솟값과 최댓값을 구하는 프로그램을 작성하시오.\n",
        "# 첫째 줄에 정수의 개수 N (1 ≤ N ≤ 1,000,000)이 주어진다. 둘째 줄에는 N개의 정수를 공백으로 구분해서 주어진다. 모든 정수는 -1,000,000보다 크거나 같고, 1,000,000보다 작거나 같은 정수이다.\n",
        "# 첫째 줄에 주어진 정수 N개의 최솟값과 최댓값을 공백으로 구분해 출력한다.\n",
        "\n",
        "def min_max(i) :\n",
        "    a = min(i)\n",
        "    b = max(i)\n",
        "    return '{} {}'.format(a,b)\n",
        "\n",
        "n = int(input())\n",
        "my_list = list(map(int,input().split()))\n",
        "\n",
        "print(min_max(my_list))"
      ],
      "execution_count": 34,
      "outputs": [
        {
          "output_type": "stream",
          "text": [
            "5\n",
            "10 20 30 40 50\n",
            "10 50\n"
          ],
          "name": "stdout"
        }
      ]
    },
    {
      "cell_type": "code",
      "metadata": {
        "id": "cMX9KdJjFzBl",
        "outputId": "4cfc7b15-c9e4-44b8-cbab-82b2864ee2ff",
        "colab": {
          "base_uri": "https://localhost:8080/",
          "height": 71
        }
      },
      "source": [
        "#simple answer\n",
        "\n",
        "n = int(input())\n",
        "nums = list(map(int,input().split()))\n",
        "print(min(nums),max(nums))"
      ],
      "execution_count": 33,
      "outputs": [
        {
          "output_type": "stream",
          "text": [
            "5\n",
            "10 20 30 40 50\n",
            "10 50\n"
          ],
          "name": "stdout"
        }
      ]
    }
  ]
}