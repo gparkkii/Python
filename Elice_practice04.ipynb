{
  "nbformat": 4,
  "nbformat_minor": 0,
  "metadata": {
    "colab": {
      "name": "Elice_practice04.ipynb",
      "provenance": [],
      "collapsed_sections": [],
      "authorship_tag": "ABX9TyNcnz+YJ5hh/EekoNreA09Q",
      "include_colab_link": true
    },
    "kernelspec": {
      "name": "python3",
      "display_name": "Python 3"
    }
  },
  "cells": [
    {
      "cell_type": "markdown",
      "metadata": {
        "id": "view-in-github",
        "colab_type": "text"
      },
      "source": [
        "<a href=\"https://colab.research.google.com/github/gparkkii/python_practice/blob/master/Elice_practice04.ipynb\" target=\"_parent\"><img src=\"https://colab.research.google.com/assets/colab-badge.svg\" alt=\"Open In Colab\"/></a>"
      ]
    },
    {
      "cell_type": "markdown",
      "metadata": {
        "id": "n1p1FyicU64q",
        "colab_type": "text"
      },
      "source": [
        "# [입문선택] 인공지능 활용을 위한 파이썬 기초\n",
        "\n",
        "**04 반복문 : 코드의 반복 줄이기**\n",
        "\n",
        "같은 코드를 반복해서 적는 것은 번거로운 일! 한 작업을 여러 번 반복하게 하는 방법은 없을까요? 반복되는 명령을 줄여주는 반복문에 대해 배워봐요!"
      ]
    },
    {
      "cell_type": "code",
      "metadata": {
        "id": "DwGdH1mYVVgK",
        "colab_type": "code",
        "colab": {
          "base_uri": "https://localhost:8080/",
          "height": 197
        },
        "outputId": "fc022262-a05a-4d78-9f4f-dd2f5e005353"
      },
      "source": [
        "#원소로 반복하기, for문!\n",
        "\n",
        "nums = [1,2,3,4,5,6,7,8,9,10]\n",
        "for i in nums:\n",
        "    print(i)"
      ],
      "execution_count": 1,
      "outputs": [
        {
          "output_type": "stream",
          "text": [
            "1\n",
            "2\n",
            "3\n",
            "4\n",
            "5\n",
            "6\n",
            "7\n",
            "8\n",
            "9\n",
            "10\n"
          ],
          "name": "stdout"
        }
      ]
    },
    {
      "cell_type": "code",
      "metadata": {
        "id": "O4yk_RcFX0GD",
        "colab_type": "code",
        "colab": {
          "base_uri": "https://localhost:8080/",
          "height": 35
        },
        "outputId": "0456467c-80be-4f37-f0af-463d0dedf06f"
      },
      "source": [
        "# Practice 01\n",
        "\n",
        "# 변수 mix에 있는 \"쌀\"의 개수를 세봅시다.\n",
        "mix = \"쌀씰쌀쌀씰쌀씰쌀씰쌀쌀씰쌀씰쌀씰쌀쌀씰쌀씰쌀씰쌀쌀씰쌀씰쌀씰쌀쌀씰쌀씰쌀씰쌀쌀씰쌀씰쌀씰쌀쌀씰쌀씰쌀씰쌀쌀씰쌀씰쌀씰쌀쌀씰쌀씰쌀씰쌀쌀씰쌀씰쌀씰쌀쌀씰쌀씰쌀씰쌀쌀씰쌀씰쌀씰쌀쌀씰쌀씰쌀씰쌀쌀씰쌀씰쌀씰쌀쌀씰쌀씰쌀씰쌀쌀씰쌀씰쌀씰쌀쌀씰쌀씰쌀씰쌀쌀씰쌀씰쌀씰쌀쌀씰쌀씰쌀씰쌀쌀씰쌀씰쌀씰쌀쌀씰쌀씰쌀씰쌀쌀씰쌀씰쌀씰쌀쌀씰쌀씰쌀씰쌀쌀씰쌀씰쌀씰쌀쌀씰쌀씰쌀씰쌀쌀씰쌀씰쌀씰쌀쌀씰쌀씰쌀씰쌀쌀씰쌀씰쌀씰쌀쌀씰쌀씰쌀씰쌀쌀씰쌀씰쌀씰쌀쌀씰쌀씰쌀씰쌀쌀씰쌀씰쌀씰쌀쌀씰쌀씰쌀씰쌀쌀씰쌀씰쌀씰쌀쌀씰쌀씰쌀씰쌀쌀씰쌀씰쌀씰쌀쌀씰쌀씰쌀씰쌀쌀씰쌀씰쌀씰쌀쌀씰쌀씰쌀씰쌀쌀씰쌀씰쌀씰쌀쌀씰쌀씰쌀씰쌀쌀씰쌀씰쌀씰쌀쌀씰쌀씰쌀씰쌀쌀씰쌀씰쌀씰쌀쌀씰쌀씰쌀씰쌀쌀씰쌀씰쌀씰쌀쌀씰쌀씰쌀씰쌀쌀씰쌀씰쌀씰쌀쌀씰쌀씰쌀씰쌀쌀씰쌀씰쌀씰쌀쌀씰쌀씰쌀씰쌀쌀씰쌀씰쌀씰쌀쌀씰쌀씰쌀씰쌀쌀씰쌀씰쌀씰쌀쌀씰쌀씰쌀씰쌀쌀씰쌀씰쌀씰쌀쌀씰쌀씰쌀씰쌀쌀씰쌀씰쌀씰쌀쌀씰쌀씰쌀씰쌀쌀씰쌀씰쌀씰쌀쌀씰쌀씰쌀씰쌀쌀씰쌀씰쌀씰쌀쌀씰쌀씰쌀씰쌀쌀씰쌀씰쌀씰쌀쌀씰쌀씰쌀씰쌀쌀씰쌀씰쌀씰쌀쌀씰쌀씰쌀씰쌀쌀씰쌀씰쌀씰쌀쌀씰쌀씰쌀씰쌀쌀씰쌀씰쌀씰쌀쌀씰쌀씰쌀씰쌀쌀씰쌀씰쌀씰쌀쌀씰쌀씰쌀씰쌀쌀씰쌀씰쌀씰쌀쌀씰쌀씰\"\n",
        "\n",
        "ssal_num = 0 #make variance to count letters\n",
        "for i in mix: #use if to count if it's ssal or ssil\n",
        "     if i == '쌀':\n",
        "        ssal_num = ssal_num + 1\n",
        "# 이를 출력해볼까요? (수정하지 마세요!)\n",
        "print(ssal_num)"
      ],
      "execution_count": 2,
      "outputs": [
        {
          "output_type": "stream",
          "text": [
            "300\n"
          ],
          "name": "stdout"
        }
      ]
    },
    {
      "cell_type": "code",
      "metadata": {
        "id": "YnFDaClkq4xL",
        "colab_type": "code",
        "colab": {
          "base_uri": "https://localhost:8080/",
          "height": 287
        },
        "outputId": "6f543257-1850-4a6c-f78e-d7e5e0f8cbdb"
      },
      "source": [
        "# Practice 02\n",
        "\n",
        "#반복할 숫자의 범위를 알고있다면? range(__ , __)!\n",
        "#연속된 정수를 담은 시퀀스가 필요한 경우에는, 이를 만들어주는 함수 range()를 사용합니다.\n",
        "#range(a, b) : a 이상 b 미만의 연속된 정수가 담긴 시퀀스를 만들어주는 함수\n",
        "\n",
        "for i in range (1,11):\n",
        "    print(i)\n",
        "\n",
        "#반복할 횟수를 알고있다면? range(__)!\n",
        "#반복할 횟수를 알고 있는 경우에는, range()를 이용해서 편하게 반복문을 만들 수 있습니다.\n",
        "#range(a) : a번 반복\n",
        "\n",
        "for i in range(5):\n",
        "    print(\"I Love Python!\")"
      ],
      "execution_count": 5,
      "outputs": [
        {
          "output_type": "stream",
          "text": [
            "1\n",
            "2\n",
            "3\n",
            "4\n",
            "5\n",
            "6\n",
            "7\n",
            "8\n",
            "9\n",
            "10\n",
            "I Love Python!\n",
            "I Love Python!\n",
            "I Love Python!\n",
            "I Love Python!\n",
            "I Love Python!\n"
          ],
          "name": "stdout"
        }
      ]
    },
    {
      "cell_type": "code",
      "metadata": {
        "id": "VkzdFO-2tTPn",
        "colab_type": "code",
        "colab": {
          "base_uri": "https://localhost:8080/",
          "height": 359
        },
        "outputId": "405f51c9-af9a-4b14-f895-5c25dacc8065"
      },
      "source": [
        "# Practice 03\n",
        "\n",
        "#for-range()를 이용해서 19단을 전부 출력해봅시다!\n",
        "for i in range(1,20):\n",
        "    print(\"19 *\", i, \"=\", 19*i)"
      ],
      "execution_count": 6,
      "outputs": [
        {
          "output_type": "stream",
          "text": [
            "19 * 1 = 19\n",
            "19 * 2 = 38\n",
            "19 * 3 = 57\n",
            "19 * 4 = 76\n",
            "19 * 5 = 95\n",
            "19 * 6 = 114\n",
            "19 * 7 = 133\n",
            "19 * 8 = 152\n",
            "19 * 9 = 171\n",
            "19 * 10 = 190\n",
            "19 * 11 = 209\n",
            "19 * 12 = 228\n",
            "19 * 13 = 247\n",
            "19 * 14 = 266\n",
            "19 * 15 = 285\n",
            "19 * 16 = 304\n",
            "19 * 17 = 323\n",
            "19 * 18 = 342\n",
            "19 * 19 = 361\n"
          ],
          "name": "stdout"
        }
      ]
    },
    {
      "cell_type": "code",
      "metadata": {
        "id": "-MsQqRzPwzx-",
        "colab_type": "code",
        "colab": {
          "base_uri": "https://localhost:8080/",
          "height": 395
        },
        "outputId": "9a10c4d3-7739-4f23-be11-f8afefdf0ef1"
      },
      "source": [
        "# Practice 04\n",
        "\n",
        "#조건에 따라 반복하고 싶다면? while!\n",
        "#조건에 의한 반복이 필요한 경우가 있습니다. 이런 경우에는 while을 이용해서 반복문을 만들어줍니다.\n",
        "#while 조건: : 조건이 True(참)이면 while 내부의 명령들을 실행. (언제까지? 조건이 False가 될 때까지!)\n",
        "\n",
        "num = 1\n",
        "while num<11:\n",
        "    print(num)\n",
        "    num = num + 1\n",
        "\n",
        "\n",
        "#while을 이용해서 \"i 년째 수감중입니다.\"를 출력해봅시다.\n",
        "#while문이 종료된 후에는, \"감옥에서 석방되었습니다!\"를 출력해봅시다.\n",
        "\n",
        "i = 1\n",
        "\n",
        "while i<11:\n",
        "    print(i,\"년째 수감 중입니다.\")\n",
        "    i = i + 1\n",
        "    if i == 11:\n",
        "        print(\"감옥에서 석방되었습니다!\")"
      ],
      "execution_count": 8,
      "outputs": [
        {
          "output_type": "stream",
          "text": [
            "1\n",
            "2\n",
            "3\n",
            "4\n",
            "5\n",
            "6\n",
            "7\n",
            "8\n",
            "9\n",
            "10\n",
            "1 년째 수감 중입니다.\n",
            "2 년째 수감 중입니다.\n",
            "3 년째 수감 중입니다.\n",
            "4 년째 수감 중입니다.\n",
            "5 년째 수감 중입니다.\n",
            "6 년째 수감 중입니다.\n",
            "7 년째 수감 중입니다.\n",
            "8 년째 수감 중입니다.\n",
            "9 년째 수감 중입니다.\n",
            "10 년째 수감 중입니다.\n",
            "감옥에서 석방되었습니다!\n"
          ],
          "name": "stdout"
        }
      ]
    },
    {
      "cell_type": "code",
      "metadata": {
        "id": "-vKQlaGp3jZd",
        "colab_type": "code",
        "colab": {}
      },
      "source": [
        "# Practice 05\n",
        "#들여쓰기에 주의하세요! 들여쓰기를 어떻게 하느냐에 따라 실행 결과가 달라질 수 있습니다.\n",
        "\n",
        "# print before if\n",
        "for i in range(0,10):\n",
        "    print(i)\n",
        "    if i == 5:\n",
        "        print (\"i가 5입니다\")\n",
        "        break\n",
        "\n",
        "# print after if\n",
        "for i in range(0,10):\n",
        "    if i == 5:\n",
        "        print (\"i가 5입니다\")\n",
        "        break\n",
        "    print(i)"
      ],
      "execution_count": null,
      "outputs": []
    },
    {
      "cell_type": "code",
      "metadata": {
        "id": "HYiPaksP8rfx",
        "colab_type": "code",
        "colab": {
          "base_uri": "https://localhost:8080/",
          "height": 35
        },
        "outputId": "fc337028-da20-4957-8a10-8e954fdc3d1b"
      },
      "source": [
        "# Practice 06\n",
        "\n",
        "#위기탈출 넘버원\n",
        "#break문으로 당신의 소중한 코드를 무한루프로부터 지킬 수 있습니다!\n",
        "#평소에도 코딩을 열심히 하던 준배. 그는 오늘도 엘리스에서 문제를 풀기 시작합니다.\n",
        "#그런데! 코드를 다 짜고 보니 코드가 멈추지 않고 계속 출력됩니다.\n",
        "#분명 맞게 작성한 것 같은데, 계속 ans가 출력이 안되는 걸 본 준배는 결국 혈압 상승으로 인해 응급실에 실려가게 되었습니다.\n",
        "#과연 무엇이 문제였을까요? 오른쪽 준배의 코드를 보고 잘못된 부분을 찾아 고쳐줍시다.\n",
        "\n",
        "# 다음은 while True:를 이용하여 준배가 짠 코드입니다.\n",
        "\n",
        "#i = 1\n",
        "#ans = 0\n",
        "#while True:\n",
        "#    ans = ans + i\n",
        "#print(ans)\n",
        "\n",
        "# 위 코드에서 잘못된 점을 찾아서 고쳐줍시다!\n",
        "# 단, while True: 부분은 수정하면 안됩니다.\n",
        "\n",
        "\n",
        "i = 1\n",
        "ans = 0\n",
        "while True:\n",
        "    ans = ans + i\n",
        "    i = i + 1\n",
        "    if i > 10:\n",
        "        break\n",
        "\n",
        "print(ans)"
      ],
      "execution_count": 23,
      "outputs": [
        {
          "output_type": "stream",
          "text": [
            "55\n"
          ],
          "name": "stdout"
        }
      ]
    },
    {
      "cell_type": "code",
      "metadata": {
        "id": "zzzqFDxjBkxj",
        "colab_type": "code",
        "colab": {
          "base_uri": "https://localhost:8080/",
          "height": 233
        },
        "outputId": "80202c82-919d-4512-b174-71d6652f6ffd"
      },
      "source": [
        "# Practice 07\n",
        "\n",
        "#1장에서는 print()를 5번 사용해서 계단 별자리를 출력했었습니다.\n",
        "#이번에는 입력한 수에 따라 계단 별자리를 출력하는 프로그램을 작성해봅시다.\n",
        "#3을 입력하면 3층, 5를 입력하면 5층 계단 별자리를 말이죠!\n",
        "\n",
        "num = int(input())\n",
        "\n",
        "i = 0\n",
        "while i in range(num):\n",
        "    i = i + 1\n",
        "    print('*' * i)\n",
        "\n",
        "for i in range(num + 1):\n",
        "    print('*' * i)"
      ],
      "execution_count": 27,
      "outputs": [
        {
          "output_type": "stream",
          "text": [
            "5\n",
            "*\n",
            "**\n",
            "***\n",
            "****\n",
            "*****\n",
            "\n",
            "*\n",
            "**\n",
            "***\n",
            "****\n",
            "*****\n"
          ],
          "name": "stdout"
        }
      ]
    },
    {
      "cell_type": "code",
      "metadata": {
        "id": "ku6R5LScKM9J",
        "colab_type": "code",
        "colab": {
          "base_uri": "https://localhost:8080/",
          "height": 107
        },
        "outputId": "d1c21be2-7228-4168-e5c0-e14a7a4ba8ae"
      },
      "source": [
        "# Practice 08\n",
        "\n",
        "#평균 구하기!\n",
        "#평균을 쉽게 구할 수 있도록 평균을 구하는 프로그램을 작성해봅시다.\n",
        "#while문을 이용해서, 0을 입력할 때 까지 입력을 받습니다. 0을 입력받았으면, 0을 입력한 바로 이전까지의 수들의 평균을 구합니다.\n",
        "\n",
        "\n",
        "sums = 0;\n",
        "cnt = 0;\n",
        "\n",
        "while True:\n",
        "    num = int(input())\n",
        "    sums = sums + num\n",
        "    if num == 0:\n",
        "        break\n",
        "    cnt = cnt + 1\n",
        "print(sums / cnt)"
      ],
      "execution_count": 28,
      "outputs": [
        {
          "output_type": "stream",
          "text": [
            "80\n",
            "90\n",
            "100\n",
            "0\n",
            "90.0\n"
          ],
          "name": "stdout"
        }
      ]
    }
  ]
}