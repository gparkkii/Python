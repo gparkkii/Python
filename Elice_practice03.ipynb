{
  "nbformat": 4,
  "nbformat_minor": 0,
  "metadata": {
    "colab": {
      "name": "Elice_practice03.ipynb",
      "provenance": [],
      "collapsed_sections": [],
      "authorship_tag": "ABX9TyNt3QhoqjXhfFYnyHwYC1j0",
      "include_colab_link": true
    },
    "kernelspec": {
      "name": "python3",
      "display_name": "Python 3"
    }
  },
  "cells": [
    {
      "cell_type": "markdown",
      "metadata": {
        "id": "view-in-github",
        "colab_type": "text"
      },
      "source": [
        "<a href=\"https://colab.research.google.com/github/gparkkii/python_practice/blob/master/Elice_practice03.ipynb\" target=\"_parent\"><img src=\"https://colab.research.google.com/assets/colab-badge.svg\" alt=\"Open In Colab\"/></a>"
      ]
    },
    {
      "cell_type": "markdown",
      "metadata": {
        "id": "OsCKze_UOk2O",
        "colab_type": "text"
      },
      "source": [
        "# [입문선택] 인공지능 활용을 위한 파이썬 기초\n",
        "\n",
        "**03 리스트 : 모아모아 다모아!**\n",
        "\n",
        "파이썬에서 여러 자료를 담는 자료형인 '리스트'와 순서가 있는 자료형인 시퀀스에 대해서 대해 조금 더 배워봅시다."
      ]
    },
    {
      "cell_type": "code",
      "metadata": {
        "id": "hi3yxWs9OqxE",
        "colab_type": "code",
        "colab": {
          "base_uri": "https://localhost:8080/",
          "height": 35
        },
        "outputId": "f4558d45-d4f2-499d-88c8-b05c3267cbea"
      },
      "source": [
        "#리스트에 원소 추가하기\n",
        "#리스트에 원소를 추가하는 방법은 다음과 같습니다.\n",
        "#원소 추가 : 리스트이름.append(자료)\n",
        "#단, 추가한 원소는 리스트의 마지막 원소 뒤에 추가됩니다. (빈 리스트라면 가장 처음위치)\n",
        "\n",
        "my_list = []\n",
        "my_list.append(5)\n",
        "my_list.append(4)\n",
        "my_list.append(2)\n",
        "my_list.append(1)\n",
        "print(my_list)"
      ],
      "execution_count": 4,
      "outputs": [
        {
          "output_type": "stream",
          "text": [
            "[5, 4, 2, 1]\n"
          ],
          "name": "stdout"
        }
      ]
    },
    {
      "cell_type": "code",
      "metadata": {
        "id": "lkhM0x0eO6Wb",
        "colab_type": "code",
        "colab": {
          "base_uri": "https://localhost:8080/",
          "height": 35
        },
        "outputId": "276b85aa-e2fc-40bc-df6c-c497301592e4"
      },
      "source": [
        "#리스트 원소 삽입\n",
        "#리스트에 원소를 삽입하는 방법은 다음과 같습니다.\n",
        "#원소 삽입 : 리스트이름.insert(인덱스, 자료)\n",
        "\n",
        "my_list = [5,4,2,1]\n",
        "my_list.insert(2,3)\n",
        "print(my_list)"
      ],
      "execution_count": 2,
      "outputs": [
        {
          "output_type": "stream",
          "text": [
            "[5, 4, 3, 2, 1]\n"
          ],
          "name": "stdout"
        }
      ]
    },
    {
      "cell_type": "code",
      "metadata": {
        "id": "0I3YDbF8PQAe",
        "colab_type": "code",
        "colab": {
          "base_uri": "https://localhost:8080/",
          "height": 35
        },
        "outputId": "74d953d5-e192-4387-d0f5-e78ae9dee665"
      },
      "source": [
        "#리스트 내부의 원소 삭제하기\n",
        "#리스트에 원소를 삭제하는 방법은 다음과 같습니다.\n",
        "#원소 삽입 : 리스트이름.remove(삭제할 자료)\n",
        "\n",
        "my_list = [5,2,4,3,2,1]\n",
        "my_list.remove(2)\n",
        "print(my_list)"
      ],
      "execution_count": 5,
      "outputs": [
        {
          "output_type": "stream",
          "text": [
            "[5, 4, 3, 2, 1]\n"
          ],
          "name": "stdout"
        }
      ]
    },
    {
      "cell_type": "code",
      "metadata": {
        "id": "JOgHMv-GPZga",
        "colab_type": "code",
        "colab": {
          "base_uri": "https://localhost:8080/",
          "height": 35
        },
        "outputId": "774f04bb-8188-48cc-8a0d-1488e7f71abb"
      },
      "source": [
        "#리스트의 원소 정렬하기\n",
        "#리스트 안에 있는 원소를 정렬하는 방법은 다음과 같습니다.\n",
        "#원소 정렬 : 리스트이름.sort()\n",
        "\n",
        "my_list = [5,4,3,2]\n",
        "my_list.sort()\n",
        "print(my_list)"
      ],
      "execution_count": 6,
      "outputs": [
        {
          "output_type": "stream",
          "text": [
            "[2, 3, 4, 5]\n"
          ],
          "name": "stdout"
        }
      ]
    },
    {
      "cell_type": "code",
      "metadata": {
        "id": "_dQ2zyChPwqx",
        "colab_type": "code",
        "colab": {
          "base_uri": "https://localhost:8080/",
          "height": 107
        },
        "outputId": "60b99864-a1ff-4fc5-d3c7-104df011856c"
      },
      "source": [
        "# Practice Question 01\n",
        "\n",
        "my_str = \"impossible\"\n",
        "my_list = [\"Apple\", \"Banana\", \"Chamwae\", \"Durian\"]\n",
        "var1 = my_list[2]\n",
        "print(var1)\n",
        "var2 = my_str[2:]\n",
        "print(var2)\n",
        "\n",
        "var3 = len(my_str)\n",
        "var4 = \"egg\" in my_list\n",
        "var5 = \"Banana\" in my_list\n",
        "\n",
        "print(var3)\n",
        "print(var4)\n",
        "print(var5)"
      ],
      "execution_count": 8,
      "outputs": [
        {
          "output_type": "stream",
          "text": [
            "Chamwae\n",
            "possible\n",
            "10\n",
            "False\n",
            "True\n"
          ],
          "name": "stdout"
        }
      ]
    },
    {
      "cell_type": "code",
      "metadata": {
        "id": "A90x8o_DQCKh",
        "colab_type": "code",
        "colab": {
          "base_uri": "https://localhost:8080/",
          "height": 53
        },
        "outputId": "ca2bf8f6-ffaa-4308-d831-393b9622ec8a"
      },
      "source": [
        "# Practice Question 02\n",
        "\n",
        "str1 = \"Py\"\n",
        "str2 = \"thon\"\n",
        "my_list = [3,6,9]\n",
        "\n",
        "var1 = str1 + str2\n",
        "print(var1)\n",
        "\n",
        "var2 = my_list *3\n",
        "print(var2)"
      ],
      "execution_count": 9,
      "outputs": [
        {
          "output_type": "stream",
          "text": [
            "Python\n",
            "[3, 6, 9, 3, 6, 9, 3, 6, 9]\n"
          ],
          "name": "stdout"
        }
      ]
    },
    {
      "cell_type": "code",
      "metadata": {
        "id": "f1hH_c-QQNQt",
        "colab_type": "code",
        "colab": {
          "base_uri": "https://localhost:8080/",
          "height": 107
        },
        "outputId": "a23e046d-0cf6-44bc-8b89-2860ee91049f"
      },
      "source": [
        "#Practice Question 03\n",
        "\n",
        "#현재 기차에는 3명의 승객이 탑승하고 있습니다.\n",
        "train = ['Seongjin', 'Chankyung', 'Junyong']\n",
        "\n",
        "# 서울역에 정차했습니다. \n",
        "# 승객 'Jonghwan'을 맨 뒷칸에 태우세요.\n",
        "\n",
        "train.insert(3,'Jonghwan')\n",
        "print('서울역 도착. // ', train)\n",
        "\n",
        "\n",
        "# 대전역에 정차했습니다. \n",
        "# 1등석 승객 'Dongbin'이 탑승했습니다. 이 분을 맨 앞에 태우세요.\n",
        "train.insert(0,'Dongbin')\n",
        "print('대전역 도착. // ', train)\n",
        "\n",
        "\n",
        "# 동대구역에 정차했습니다. \n",
        "# 승객 'Seongjin'님이 내린다고 합니다. 이 분을 하차시켜주세요.\n",
        "train.remove('Seongjin')\n",
        "print('동대구역 도착. // ', train)\n",
        "\n",
        "\n",
        "# 마지막 역인 부산역에 정차했습니다. \n",
        "# 원활한 하차를 위해 손님들의 자리를 사전순으로 다시 지정해주세요.\n",
        "train.sort()\n",
        "print('부산역 도착. // ', train)\n",
        "print('오늘도 빠르고 편안한 기차를 이용해주셔서 감사합니다.')"
      ],
      "execution_count": 10,
      "outputs": [
        {
          "output_type": "stream",
          "text": [
            "서울역 도착. //  ['Seongjin', 'Chankyung', 'Junyong', 'Jonghwan']\n",
            "대전역 도착. //  ['Dongbin', 'Seongjin', 'Chankyung', 'Junyong', 'Jonghwan']\n",
            "동대구역 도착. //  ['Dongbin', 'Chankyung', 'Junyong', 'Jonghwan']\n",
            "부산역 도착. //  ['Chankyung', 'Dongbin', 'Jonghwan', 'Junyong']\n",
            "오늘도 빠르고 편안한 기차를 이용해주셔서 감사합니다.\n"
          ],
          "name": "stdout"
        }
      ]
    },
    {
      "cell_type": "code",
      "metadata": {
        "id": "ujOSLyKKQTrt",
        "colab_type": "code",
        "colab": {
          "base_uri": "https://localhost:8080/",
          "height": 53
        },
        "outputId": "f79dccb6-fc9a-43f3-83ba-3dd95b160058"
      },
      "source": [
        "# Practice Question 04\n",
        "\n",
        "#dahyun의 가방 안에서 '다이아몬드'를 훔쳐볼까요?\n",
        "dahyun = ['은', '은', '은', '은', '은', '은', '은', '은', '은', '은', '은', '은', '은', '은', '은', '은', '은', '은', '은', '은', '은', '은', '은', '은', '은', '은', '은', '은', '은', '은', '은', '은', '은', '은', '은', '은', '은', '은', '은', '은', '은', '은', '다이아몬드', '은']\n",
        "\n",
        "#이 가방에 한번 넣어봅시다!\n",
        "stealBag1 = dahyun[-2]\n",
        "\n",
        "#tzuyu는 가방 안 깊숙히 금을 13개 가지고 있네요! 이것들도 한번 훔쳐볼까요?\n",
        "tzuyu = ['은', '은', '은', '은', '은', '은', '은', '은', '은', '은', '은', '은', '은', '은', '은', '은', '은', '은','금', '금', '금', '금', '금', '금', '금', '금', '금', '금', '금', '금', '금' ]\n",
        "\n",
        "#이 가방에 한번 넣어봅시다!\n",
        "stealBag2 = tzuyu[18:]\n",
        "\n",
        "#여러분이 훔쳐온 보석은 무엇인지 print()를 이용해서 한번 확인해보세요!\n",
        "print('dahyun로부터 훔쳐온 보석은', stealBag1)\n",
        "print('tzuyu로부터 훔쳐온 보석은', stealBag2)"
      ],
      "execution_count": 11,
      "outputs": [
        {
          "output_type": "stream",
          "text": [
            "dahyun로부터 훔쳐온 보석은 다이아몬드\n",
            "tzuyu로부터 훔쳐온 보석은 ['금', '금', '금', '금', '금', '금', '금', '금', '금', '금', '금', '금', '금']\n"
          ],
          "name": "stdout"
        }
      ]
    },
    {
      "cell_type": "code",
      "metadata": {
        "id": "zV4_u3xhQZz9",
        "colab_type": "code",
        "colab": {
          "base_uri": "https://localhost:8080/",
          "height": 107
        },
        "outputId": "59e40c71-c3eb-439d-e52a-b6895d085d9b"
      },
      "source": [
        "# Practice Question 05\n",
        "\n",
        "twice = [\"모모\", \"쯔위\", \"사나\", \"지효\", \"미나\", \"다현\", \"나연\", \"정연\", \"채영\"]\n",
        "\n",
        "blackpink = [\"지수\", \"제니\", \"리사\", \"로제\"]\n",
        "\n",
        "# 1. 트와이스와 블랙핑크의 멤버는 각각 몇 명일까요? 한 번 알아봅시다!\n",
        "twice_member = len(twice)\n",
        "print(twice_member)\n",
        "\n",
        "blackpink_member = len(blackpink)\n",
        "print(blackpink_member)\n",
        "\n",
        "\n",
        "# 2. 멤버 수가 많아 헷갈리네요! 누가 어디 그룹의 소속인지 알아보고 각각 출력해봅시다.\n",
        "\n",
        "# 2-1. 모모는 블랙핑크 소속일까요? in을 써서 알아봅시다.\n",
        "isMomoBlackpink = \"모모\" in blackpink\n",
        "print(isMomoBlackpink)\n",
        "# 2-2. 쯔위는 트와이스 소속일까요?\n",
        "isTzuyuTwice = \"쯔위\" in twice\n",
        "print(isTzuyuTwice)\n",
        "# 2-3. 지수는 블랙핑크 소속일까요?\n",
        "isJisooBlackpink = \"지수\" in blackpink\n",
        "print(isJisooBlackpink)\n"
      ],
      "execution_count": 12,
      "outputs": [
        {
          "output_type": "stream",
          "text": [
            "9\n",
            "4\n",
            "False\n",
            "True\n",
            "True\n"
          ],
          "name": "stdout"
        }
      ]
    },
    {
      "cell_type": "code",
      "metadata": {
        "id": "snIhJAPGRVGi",
        "colab_type": "code",
        "colab": {
          "base_uri": "https://localhost:8080/",
          "height": 71
        },
        "outputId": "77419b4f-87e9-44a1-ced8-31ff86c0519b"
      },
      "source": [
        "# Practice 06\n",
        "\n",
        "a = ['ring']\n",
        "b = ['ding']\n",
        "c = ['dong']\n",
        "d = ['diggi']\n",
        "# 연결 연산자를 이용해서 ['ring', 'ding', 'dong']를 lyric에 대입해봅시다.\n",
        "lyric = a+b+c\n",
        "print(lyric)\n",
        "# 수능을 하루 앞둔 친구에게 수능 금지곡을 들려줍시다!\n",
        "# 변수 shinee에 다음 리스트를 담아봅시다.\n",
        "# ['ring', 'ding', 'dong', 'ring', 'ding', 'dong']\n",
        "shinee1 = (a+b+c)*2\n",
        "print(shinee1)\n",
        "# 노래가 좀 짧네요! 뒷부분도 불러봅시다!\n",
        "#['ring','diggi','ding','diggi','ding','ding','ding']\n",
        "shinee2 = a+d+b+d+b*3\n",
        "print(shinee1,shinee2)"
      ],
      "execution_count": 13,
      "outputs": [
        {
          "output_type": "stream",
          "text": [
            "['ring', 'ding', 'dong']\n",
            "['ring', 'ding', 'dong', 'ring', 'ding', 'dong']\n",
            "['ring', 'ding', 'dong', 'ring', 'ding', 'dong'] ['ring', 'diggi', 'ding', 'diggi', 'ding', 'ding', 'ding']\n"
          ],
          "name": "stdout"
        }
      ]
    }
  ]
}