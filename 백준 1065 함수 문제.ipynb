{
  "nbformat": 4,
  "nbformat_minor": 0,
  "metadata": {
    "colab": {
      "name": "백준 1065 함수 문제.ipynb",
      "provenance": [],
      "authorship_tag": "ABX9TyPd3OchnG6FgY1jQ7jzelmn",
      "include_colab_link": true
    },
    "kernelspec": {
      "name": "python3",
      "display_name": "Python 3"
    }
  },
  "cells": [
    {
      "cell_type": "markdown",
      "metadata": {
        "id": "view-in-github",
        "colab_type": "text"
      },
      "source": [
        "<a href=\"https://colab.research.google.com/github/gparkkii/python_practice/blob/master/%EB%B0%B1%EC%A4%80%201065%20%ED%95%A8%EC%88%98%20%EB%AC%B8%EC%A0%9C.ipynb\" target=\"_parent\"><img src=\"https://colab.research.google.com/assets/colab-badge.svg\" alt=\"Open In Colab\"/></a>"
      ]
    },
    {
      "cell_type": "code",
      "metadata": {
        "id": "luiputAJm6jx",
        "outputId": "8776c6c1-208a-4429-c417-29fa51aea816",
        "colab": {
          "base_uri": "https://localhost:8080/",
          "height": 53
        }
      },
      "source": [
        "# 어떤 양의 정수 X의 각 자리가 등차수열을 이룬다면, 그 수를 한수라고 한다. 등차수열은 연속된 두 개의 수의 차이가 일정한 수열을 말한다. N이 주어졌을 때, 1보다 크거나 같고, N보다 작거나 같은 한수의 개수를 출력하는 프로그램을 작성하시오. \n",
        "# 입력 : 첫째 줄에 1,000보다 작거나 같은 자연수 N이 주어진다.\n",
        "# 출력 : 첫째 줄에 1보다 크거나 같고, N보다 작거나 같은 한수의 개수를 출력한다.\n",
        "\n",
        "n = int(input())\n",
        "cnt = 0\n",
        "\n",
        "def hansu(a):\n",
        "    a = str(a)\n",
        "    my_list = []\n",
        "    for i in range(len(a) - 1):\n",
        "        my_list.append(int(a[i]) - int(a[i+1]))\n",
        "    if len(set(my_list)) == 1:\n",
        "        return True\n",
        "    \n",
        "for i in range(1,n+1):\n",
        "    if i <= 99:\n",
        "        cnt += 1\n",
        "    else:\n",
        "        if hansu(i) == True:\n",
        "            cnt += 1\n",
        "        else:\n",
        "            pass\n",
        " \n",
        "print(cnt)"
      ],
      "execution_count": 1,
      "outputs": [
        {
          "output_type": "stream",
          "text": [
            "1000\n",
            "144\n"
          ],
          "name": "stdout"
        }
      ]
    }
  ]
}