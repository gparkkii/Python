{
  "nbformat": 4,
  "nbformat_minor": 0,
  "metadata": {
    "colab": {
      "name": "Elice_practice05.ipynb",
      "provenance": [],
      "collapsed_sections": [],
      "include_colab_link": true
    },
    "kernelspec": {
      "name": "python3",
      "display_name": "Python 3"
    }
  },
  "cells": [
    {
      "cell_type": "markdown",
      "metadata": {
        "id": "view-in-github",
        "colab_type": "text"
      },
      "source": [
        "<a href=\"https://colab.research.google.com/github/gparkkii/python_practice/blob/master/Elice_practice05.ipynb\" target=\"_parent\"><img src=\"https://colab.research.google.com/assets/colab-badge.svg\" alt=\"Open In Colab\"/></a>"
      ]
    },
    {
      "cell_type": "markdown",
      "metadata": {
        "id": "E2hg0LQjGTuj"
      },
      "source": [
        "# [입문선택] 인공지능 활용을 위한 파이썬 기초\n",
        "\n",
        "**05 기초 자료형 II**\n",
        "\n",
        "문자열/리스트를 더 잘 활용하는 방법과, 변하지 않으면서 여러 자료를 담을 수 있는 Tuple과, 짝꿍이 있는 자료형인 Dictionary를 배웁니다."
      ]
    },
    {
      "cell_type": "code",
      "metadata": {
        "id": "mAinxJmwGagv",
        "outputId": "33aae531-5c18-451b-cab2-1fd147a848a8",
        "colab": {
          "base_uri": "https://localhost:8080/",
          "height": 233
        }
      },
      "source": [
        "# [str.split() / ().join(str) / list.pop()] practice\n",
        "\n",
        "my_list = '1 2 3 4 5'\n",
        "print(my_list)\n",
        "print(type(my_list))\n",
        "print('-----------------------')\n",
        "print(my_list.split())\n",
        "print(type(my_list))\n",
        "print('-----------------------')\n",
        "print(('').join(my_list))\n",
        "print(type(my_list))\n",
        "print('-----------------------')\n",
        "my_list = [1,2,3,4,5]\n",
        "print(my_list.pop(3))\n",
        "print(type(my_list))\n",
        "print(my_list)"
      ],
      "execution_count": null,
      "outputs": [
        {
          "output_type": "stream",
          "text": [
            "1 2 3 4 5\n",
            "<class 'str'>\n",
            "-----------------------\n",
            "['1', '2', '3', '4', '5']\n",
            "<class 'str'>\n",
            "-----------------------\n",
            "1 2 3 4 5\n",
            "<class 'str'>\n",
            "-----------------------\n",
            "4\n",
            "<class 'list'>\n",
            "[1, 2, 3, 5]\n"
          ],
          "name": "stdout"
        }
      ]
    },
    {
      "cell_type": "code",
      "metadata": {
        "id": "7ms9Gk_bHR_W",
        "outputId": "94470495-99c0-4392-ba78-7a98dc76a7a4",
        "colab": {
          "base_uri": "https://localhost:8080/",
          "height": 107
        }
      },
      "source": [
        "#원소의 개수세기 / 꺼내기\n",
        "#리스트에 원소의 개수를 세고, 인덱스로 원소를 꺼내는 방법은 다음과 같습니다.\n",
        "#원소의 개수세기 : 시퀀스이름.count(자료)\n",
        "#인덱스로 원소 꺼내기 : 리스트이름.pop(인덱스)\n",
        "#단, 존재하지 않는 인덱스를 pop할 경우 Python은 오류를 발생시킵니다.\n",
        "\n",
        "my_list = [1,2,2,3,3,3]\n",
        "var1 = my_list.count(3)\n",
        "print(var1)\n",
        "\n",
        "print(my_list)\n",
        "my_list.pop()\n",
        "print(my_list)\n",
        "my_list.pop(3)\n",
        "print(my_list)\n",
        "my_list.pop(2)\n",
        "print(my_list)"
      ],
      "execution_count": null,
      "outputs": [
        {
          "output_type": "stream",
          "text": [
            "3\n",
            "[1, 2, 2, 3, 3, 3]\n",
            "[1, 2, 2, 3, 3]\n",
            "[1, 2, 2, 3]\n",
            "[1, 2, 3]\n"
          ],
          "name": "stdout"
        }
      ]
    },
    {
      "cell_type": "code",
      "metadata": {
        "id": "-U5Fx803I8dd",
        "outputId": "3743d03a-9a43-4fec-9803-0718d31daf11",
        "colab": {
          "base_uri": "https://localhost:8080/",
          "height": 143
        }
      },
      "source": [
        "#리스트를 쪼개고, 붙이기!\n",
        "#리스트를 문자열로 바꾸고, 문자열을 리스트로 바꾸는 방법은 다음과 같습니다.\n",
        "#문자열 → 리스트 : 쪼갤 문자열.split(기준 문자열)\n",
        "#리스트 → 문자열 : 연결할 문자열.join(리스트)\n",
        "\n",
        "#연결할 문자열 : 리스트의 원소와 원소 사이에 들어가는 문자열\n",
        "#쪼갤 문자열 : 쪼개서 리스트로 만들 문자열\n",
        "#기준 문자열 : 쪼갤 때 기준이 되는 문자열(쪼개진 후에는 기준 문자열은 삭제됨)\n",
        "#을 의미합니다. 각 자리에 어떤 자료가 들어가는지 위치를 음미해보세요! :)\n",
        "\n",
        "my_str1 = \"1/2/3/4/5\"\n",
        "print(my_str1.split('/'))\n",
        "var3 = my_str1.split('/')\n",
        "print((' and ').join(var3))\n",
        "\n",
        "my_list2 = ['나','너','우리']\n",
        "print(' 그리고 '.join(my_list2))\n",
        "\n",
        "\n",
        "my_str = 'beetea'\n",
        "var1 = my_str.split('e')\n",
        "print(my_str)\n",
        "print(var1)\n",
        "\n",
        "my_list = [\"Seeing\", \"is\", \"Believing\"]\n",
        "var2 = (' ').join(my_list)\n",
        "print(my_list)\n",
        "print(var2)\n"
      ],
      "execution_count": null,
      "outputs": [
        {
          "output_type": "stream",
          "text": [
            "['1', '2', '3', '4', '5']\n",
            "1 and 2 and 3 and 4 and 5\n",
            "나 그리고 너 그리고 우리\n",
            "beetea\n",
            "['b', '', 't', 'a']\n",
            "['Seeing', 'is', 'Believing']\n",
            "Seeing is Believing\n"
          ],
          "name": "stdout"
        }
      ]
    },
    {
      "cell_type": "code",
      "metadata": {
        "id": "bq9EORRmLvHL",
        "outputId": "564a9fed-c931-4990-9f92-3813e4a9dc46",
        "colab": {
          "base_uri": "https://localhost:8080/",
          "height": 91
        }
      },
      "source": [
        "#간단한 데이터 분석? Python에게 맡기세요!\n",
        "#이번 1장에서 배운 내용으로 간단하게 문자열을 분석할 수 있습니다.\n",
        "#콤마(,)로 구분된 노래가사 문자열 lyrics가 주어질 때, 이를 리스트에 담은 다음, 46번째 구절이 무엇인지 출력해봅시다.\n",
        "\n",
        "lyrics = \"낙엽을,닮은,너의,눈동자를,나는,정말,정말,좋아했었어,가을을,닮은,너의,목소리를,나는,아직,아직,잊지,못했어,같이,걸으면서,들었던,낙엽,소리가,내,귓가에,들려오는,것만,같아,함께,앉아,있던,좁다란,나무,벤치엔,너의,온기가,남아있는,것만,같아,낙엽을,닮은,너의,눈동자를,나는,정말,정말,좋아했었어,가을을,닮은,너의,목소리를,나는,아직,아직,잊지,못했어\"\n",
        "print(lyrics)\n",
        "\n",
        "list_lyrics = lyrics.split(',')\n",
        "print(list_lyrics)\n",
        "\n",
        "every_lyrics = (' ').join(list_lyrics)\n",
        "print(every_lyrics)"
      ],
      "execution_count": null,
      "outputs": [
        {
          "output_type": "stream",
          "text": [
            "낙엽을,닮은,너의,눈동자를,나는,정말,정말,좋아했었어,가을을,닮은,너의,목소리를,나는,아직,아직,잊지,못했어,같이,걸으면서,들었던,낙엽,소리가,내,귓가에,들려오는,것만,같아,함께,앉아,있던,좁다란,나무,벤치엔,너의,온기가,남아있는,것만,같아,낙엽을,닮은,너의,눈동자를,나는,정말,정말,좋아했었어,가을을,닮은,너의,목소리를,나는,아직,아직,잊지,못했어\n",
            "['낙엽을', '닮은', '너의', '눈동자를', '나는', '정말', '정말', '좋아했었어', '가을을', '닮은', '너의', '목소리를', '나는', '아직', '아직', '잊지', '못했어', '같이', '걸으면서', '들었던', '낙엽', '소리가', '내', '귓가에', '들려오는', '것만', '같아', '함께', '앉아', '있던', '좁다란', '나무', '벤치엔', '너의', '온기가', '남아있는', '것만', '같아', '낙엽을', '닮은', '너의', '눈동자를', '나는', '정말', '정말', '좋아했었어', '가을을', '닮은', '너의', '목소리를', '나는', '아직', '아직', '잊지', '못했어']\n",
            "낙엽을 닮은 너의 눈동자를 나는 정말 정말 좋아했었어 가을을 닮은 너의 목소리를 나는 아직 아직 잊지 못했어 같이 걸으면서 들었던 낙엽 소리가 내 귓가에 들려오는 것만 같아 함께 앉아 있던 좁다란 나무 벤치엔 너의 온기가 남아있는 것만 같아 낙엽을 닮은 너의 눈동자를 나는 정말 정말 좋아했었어 가을을 닮은 너의 목소리를 나는 아직 아직 잊지 못했어\n"
          ],
          "name": "stdout"
        }
      ]
    },
    {
      "cell_type": "code",
      "metadata": {
        "id": "p41UOWl-Ty6u",
        "outputId": "38cf5cbe-8da4-4f8c-ee67-2d0c180a809c",
        "colab": {
          "base_uri": "https://localhost:8080/",
          "height": 89
        }
      },
      "source": [
        "#이렇게 해봐요!\n",
        "\n",
        "#숫자 1, 2, 3, 4, 5이 담긴 튜플 my_tuple을 하나 선언해봅시다.\n",
        "#my_tuple의 인덱스 2의 원소를 변수 var1에 넣어봅시다.\n",
        "#my_tuple의 인덱스 1, 2, 3의 원소를 슬라이싱하여 변수 var2에 넣어봅시다.\n",
        "#my_tuple의 길이를 변수 var3에 넣어봅시다.\n",
        "\n",
        "my_tuple = (1,2,3,4,5)\n",
        "var1 = my_tuple[2]\n",
        "var2 = my_tuple[1:4]\n",
        "var3 = len(my_tuple)\n",
        "\n",
        "print(my_tuple)\n",
        "print(var1)\n",
        "print(var2)\n",
        "print(var3)"
      ],
      "execution_count": null,
      "outputs": [
        {
          "output_type": "stream",
          "text": [
            "(1, 2, 3, 4, 5)\n",
            "3\n",
            "(2, 3, 4)\n",
            "5\n"
          ],
          "name": "stdout"
        }
      ]
    },
    {
      "cell_type": "code",
      "metadata": {
        "id": "BjZPj5LfbDqP",
        "outputId": "2d3ff104-b0bc-4cb3-92aa-72f9efa6b853",
        "colab": {
          "base_uri": "https://localhost:8080/",
          "height": 68
        }
      },
      "source": [
        "#Tuple vs List\n",
        "#리스트와 튜플은 비슷한 점이 많습니다. 하지만 리스트는 내부 원소의 값을 수정, 삭제, 추가가 가능하고, 튜플은 이것이 불가능합니다.\n",
        "\n",
        "#이렇게 해봐요!\n",
        "#5번째 줄에 my_tuple의 인덱스 2의 원소를 5로 바꿔치기 해봅시다.\n",
        "#11번째 줄에 my_tuple에 숫자 6을 추가해봅시다. (.append() 이용)\n",
        "\n",
        "#Tip!\n",
        "#try-except는 예외 처리구문입니다. 우선 try문 안에 있는 내용을 실행하다가, 오류가 발생하면 except문 안에 있는 내용을 실행합니다.\n",
        "\n",
        "my_tuple = (1, 2, 3)\n",
        "\n",
        "try:\n",
        "    #여기에 인덱싱을 이용해서 Tuple의 값을 변경해봅시다.\n",
        "    my_tuple[2] = 5\n",
        "    \n",
        "except TypeError:\n",
        "    print(\"Tuple은 값을 변경할 수 없습니다.\")\n",
        "    \n",
        "try:\n",
        "    #여기에 .append()를 이용해서 Tuple의 값을 추가해봅시다.\n",
        "    my_tuple.append(6)\n",
        "    \n",
        "except AttributeError:\n",
        "    print(\"Tuple은 값을 추가할 수 없습니다.\")\n",
        "\n",
        "print(my_tuple)"
      ],
      "execution_count": 1,
      "outputs": [
        {
          "output_type": "stream",
          "text": [
            "Tuple은 값을 변경할 수 없습니다.\n",
            "Tuple은 값을 추가할 수 없습니다.\n",
            "(1, 2, 3)\n"
          ],
          "name": "stdout"
        }
      ]
    },
    {
      "cell_type": "code",
      "metadata": {
        "id": "IOMggBNOhaqu",
        "outputId": "7e8e3049-0d79-493d-a61d-607cb6f5cb47",
        "colab": {
          "base_uri": "https://localhost:8080/",
          "height": 136
        }
      },
      "source": [
        "#넌 나랑 한패! Dictionary\n",
        "#자료형 중에는 관계를 만들 수 있는 자료형이 있습니다. 이를 Dictionary(딕셔너리 : 사전형) 자료라고 합니다.\n",
        "\n",
        "\n",
        "#실습00\n",
        "dict_zero = {}\n",
        "print(dict_zero)\n",
        "dict_one = {\"one\":1}\n",
        "print(dict_one)\n",
        "dict_three = {\"one\":1, \"two\":1, \"three\":1}\n",
        "print(dict_three)\n",
        "\n",
        "\n",
        "#1 다음 대응관계가 담긴 Dictionary를 하나 만들고, 이를 변수 my_dict에 넣어봅시다.\n",
        "#“사과” → “apple”\n",
        "#“바나나” → “banana”\n",
        "#“당근” → “carrot”\n",
        "my_dict = {\"사과\":\"apple\", \"바나나\":\"banana\", \"당근\":\"carrot\"}\n",
        "print(my_dict)\n",
        "\n",
        "#2.사과를 영어로 뭐라고 할까요? my_dict에서 사과”를 Key로 넣어 나온 Value를 변수 var1에 넣어봅시다.\n",
        "var1 = my_dict[\"사과\"]\n",
        "print(my_dict[\"사과\"])\n",
        "\n",
        "#3.당근은 싫어요! my_dict에서 당근-carrot을 제거해봅시다.\n",
        "del my_dict[\"당근\"]\n",
        "print(my_dict)\n",
        "\n",
        "#4. 체리는 좋아요! my_dict에서 체리-cherry를 추가해봅시다.\n",
        "my_dict[\"체리\"] = \"cherry\"\n",
        "print(my_dict)\n",
        "\n",
        "#Tip!\n",
        "#Dictionary의 Key나 Value를 문자열로 설정할 땐 “”, ‘’(따옴표)를 잊지 마세요!\n",
        "#Dictionary를 어디에 활용할 수 있을까요? 한번 생각해봅시다!\n",
        "#Dictionary의 원소를 제거할 때는 del Keyword를 사용합니다."
      ],
      "execution_count": 2,
      "outputs": [
        {
          "output_type": "stream",
          "text": [
            "{}\n",
            "{'one': 1}\n",
            "{'one': 1, 'two': 1, 'three': 1}\n",
            "{'사과': 'apple', '바나나': 'banana', '당근': 'carrot'}\n",
            "apple\n",
            "{'사과': 'apple', '바나나': 'banana'}\n",
            "{'사과': 'apple', '바나나': 'banana', '체리': 'cherry'}\n"
          ],
          "name": "stdout"
        }
      ]
    },
    {
      "cell_type": "code",
      "metadata": {
        "id": "pGBDw4Tei07I",
        "outputId": "01a09127-0a44-4207-8902-3ccb6a9d78c8",
        "colab": {
          "base_uri": "https://localhost:8080/",
          "height": 85
        }
      },
      "source": [
        "#열쇠가 고장나면 자물쇠를 열 수 없죠! 그렇다면 Dictionary도?!\n",
        "#Dictionary에서 Key는 Value를 가져오기 위한 중요한 요소입니다. 그렇기 때문에 Key는 변할 수 없는 자료형이여야 합니다. 또한, 2개 이상의 동일한 Key가 있어선 안 됩니다.\n",
        "#따라서 여러 자료의 묶음을 Key로 설정하고 싶다면, List가 아닌 Tuple을 사용하세요!\n",
        "#아래 실습을 따라해보면서 Key로 설정할 수 있는 자료가 무엇인지 익혀봅시다.\n",
        "\n",
        "#이렇게 해봐요!\n",
        "#1. 빈 Dictionary를 만들고, 이를 변수 my_dict에 넣어봅시다.\n",
        "my_dict = {}\n",
        "\n",
        "#2. my_dict에 다음 대응관계를 넣어봅시다.\n",
        "#1 → “Integer”\n",
        "#‘a’ → “String”\n",
        "#(1, 2, 3) → “Tuple”\n",
        "my_dict[1] = \"Integer\"\n",
        "print(my_dict)\n",
        "my_dict['a'] = \"String\"\n",
        "print(my_dict)\n",
        "my_dict[(1,2,3)] = \"Tuple\"\n",
        "print(my_dict)\n",
        "\n",
        "#my_dict에 다음 대응관계를 추가하는 코드를 작성해봅시다.\n",
        "#[1, 2, 3] → “List”\n",
        "\n",
        "try:\n",
        "    #여기에 [1, 2, 3] → \"List\"의 대응관계를 만들어봅시다.\n",
        "    my_dict[[1,2,3]] = \"List\"\n",
        "    \n",
        "except TypeError:\n",
        "    print(\"List는 Dictionary의 Key가 될 수 없습니다.\")\n",
        "\n",
        "#Tip!\n",
        "#try-except는 예외 처리구문입니다. 이는 추후 강좌에서 다룰 내용이에요! 조금만 기다려 주세요 :)\n",
        "#Key와 Value의 문자열의 철자와 대소문자에 주의하세요!"
      ],
      "execution_count": 3,
      "outputs": [
        {
          "output_type": "stream",
          "text": [
            "{1: 'Integer'}\n",
            "{1: 'Integer', 'a': 'String'}\n",
            "{1: 'Integer', 'a': 'String', (1, 2, 3): 'Tuple'}\n",
            "List는 Dictionary의 Key가 될 수 없습니다.\n"
          ],
          "name": "stdout"
        }
      ]
    },
    {
      "cell_type": "code",
      "metadata": {
        "id": "6xSZ-glMlm-P",
        "outputId": "f0e676a5-7a22-44e8-c7ff-faa74cf94add",
        "colab": {
          "base_uri": "https://localhost:8080/",
          "height": 221
        }
      },
      "source": [
        "#이렇게 해봐요!\n",
        "\n",
        "#1.변수 cvs에 미니언들이 한 말들이 리스트에 담겨 있습니다. 이를 수정하지 마세요!\n",
        "cvs = [\"Bello\", \"Bello\", \"Tulaliloo_ti_amo\", \"Tank_yu\", \"Poopaye\", \"Poopaye\"]\n",
        "\n",
        "#2.위 대응관계 (Minionese→한국어)를 가진 DIcitionary - miniWord를 만들어봅시다.\n",
        "# Minionese와 한국어가 담긴 miniWord 딕셔너리를 만드세요.\n",
        "miniWord = {\"Bello\" : \"안녕\", \"Poopaye\":\"잘가\", \"Tank_yu\":\"고마워\", \"Tulaliloo_ti_amo\":\"우린 너를 사랑해\"}\n",
        "\n",
        "#3.miniWord를 이용해 cvs에 담긴 리스트를 이를 한국어로 한 줄에 하나씩 번역하여 출력해봅시다.\n",
        "print(miniWord[cvs[0]])\n",
        "print(miniWord[cvs[1]])\n",
        "print(miniWord[cvs[2]])\n",
        "print(miniWord[cvs[3]])\n",
        "print(miniWord[cvs[4]])\n",
        "print(miniWord[cvs[5]])\n",
        "\n",
        "\n",
        "#Tip!\n",
        "#cvs 리스트의 원소들을 for을 사용하여 반복문의 횟수로 사용할 수있어요!\n",
        "\n",
        "for i in range(6):\n",
        "    print(miniWord[cvs[i]])"
      ],
      "execution_count": 4,
      "outputs": [
        {
          "output_type": "stream",
          "text": [
            "안녕\n",
            "안녕\n",
            "우린 너를 사랑해\n",
            "고마워\n",
            "잘가\n",
            "잘가\n",
            "안녕\n",
            "안녕\n",
            "우린 너를 사랑해\n",
            "고마워\n",
            "잘가\n",
            "잘가\n"
          ],
          "name": "stdout"
        }
      ]
    }
  ]
}