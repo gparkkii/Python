{
  "nbformat": 4,
  "nbformat_minor": 0,
  "metadata": {
    "colab": {
      "name": "Elice_practice06.ipynb",
      "provenance": [],
      "collapsed_sections": [],
      "authorship_tag": "ABX9TyMSXTpyVS8ZEmggllLLJs75",
      "include_colab_link": true
    },
    "kernelspec": {
      "name": "python3",
      "display_name": "Python 3"
    }
  },
  "cells": [
    {
      "cell_type": "markdown",
      "metadata": {
        "id": "view-in-github",
        "colab_type": "text"
      },
      "source": [
        "<a href=\"https://colab.research.google.com/github/gparkkii/python_practice/blob/master/Elice_practice06.ipynb\" target=\"_parent\"><img src=\"https://colab.research.google.com/assets/colab-badge.svg\" alt=\"Open In Colab\"/></a>"
      ]
    },
    {
      "cell_type": "markdown",
      "metadata": {
        "id": "MGcgR_r_Gw-Y"
      },
      "source": [
        "# [입문선택] 인공지능 활용을 위한 파이썬 기초\n",
        "\n",
        "**06 함수와 메서드**\n",
        "\n",
        "여러 명령을 묶어 편하게 관리할 수 있는 함수와 어떤 자료와 연결되어 사용되는 함수인 메서드를 배워봅시다."
      ]
    },
    {
      "cell_type": "code",
      "metadata": {
        "id": "04r_lrOIG2rm",
        "outputId": "e615f235-1a93-4220-d20a-31d28e60cbbf",
        "colab": {
          "base_uri": "https://localhost:8080/",
          "height": 68
        }
      },
      "source": [
        "#최댓값/최솟값 쉽게 구하기\n",
        "#시퀀스 안의 원소 중, 최댓값과 최솟값을 구하는 함수는 다음과 같습니다.\n",
        "#최댓값 : max(시퀀스)\n",
        "#최솟값 : min(시퀀스)\n",
        "#단, 시퀀스 안의 원소가 모두 숫자형 자료여야 합니다!\n",
        "\n",
        "#ex)\n",
        "my_list = [10,20,30,40,50]\n",
        "print(max(my_list))\n",
        "print(min(my_list))\n",
        "\n",
        "#이렇게 해봐요!\n",
        "#1.원하는 숫자 5개가 담긴 튜플 my_tuple을 선언해봅시다.\n",
        "my_tuple = (100, 435, 89, 237, 10)\n",
        "\n",
        "#2.변수 var1를 선언하고, my_tuple의 최댓값을 넣어봅시다.\n",
        "var1 = max(my_tuple)\n",
        "\n",
        "#3.변수 var2를 선언하고, my_tuple의 최솟값을 넣어봅시다.\n",
        "var2 = min(my_tuple)\n",
        "\n",
        "print(var1,var2)\n",
        "\n",
        "#Tip! 시퀀스 중 문자열은 원소가 모두 문자열이므로 max(), min()을 사용할 수 없겠죠?"
      ],
      "execution_count": null,
      "outputs": [
        {
          "output_type": "stream",
          "text": [
            "50\n",
            "10\n",
            "435 10\n"
          ],
          "name": "stdout"
        }
      ]
    },
    {
      "cell_type": "code",
      "metadata": {
        "id": "pEPg35Z5IU5U",
        "outputId": "810733bc-75f7-482d-9635-ad42e95efeb2",
        "colab": {
          "base_uri": "https://localhost:8080/",
          "height": 68
        }
      },
      "source": [
        "#합/길이 쉽게 구하기\n",
        "#시퀀스의 합과 길이를 구하는 함수는 다음과 같습니다.\n",
        "#원소들의 합 : sum()\n",
        "#시퀀스의 길이 : len()\n",
        "#단, sum()을 사용할 때는 시퀀스 안의 원소가 모두 숫자형 자료여야합니다!\n",
        "\n",
        "#ex)\n",
        "my_tuple = (3, 1, 2, 4)\n",
        "print(sum(my_tuple))\n",
        "print(len(my_tuple))\n",
        "\n",
        "#이렇게 해봐요!\n",
        "#1.원하는 숫자 5개가 담긴 리스트 my_list을 하나 선언해봅시다.\n",
        "my_list = [8,3,2,4,1]\n",
        "\n",
        "\n",
        "#2.변수 var1를 선언하고, my_list의 합을 넣어봅시다.\n",
        "var1 = sum(my_list)\n",
        "\n",
        "#3.변수 var2를 선언하고, my_list의 길이를 넣어봅시다.\n",
        "var2 = len(my_list)\n",
        "\n",
        "#4.변수 var3을 선언하고, my_list의 평균을 넣어봅시다.\n",
        "var3 = sum(my_list)/len(my_list)\n",
        "\n",
        "print(var1,\"/\",var2,\"=\",var3)\n",
        "\n",
        "#Tip! 평균은 (자료의 합) / (자료의 길이) 로 나타냅니다."
      ],
      "execution_count": null,
      "outputs": [
        {
          "output_type": "stream",
          "text": [
            "10\n",
            "4\n",
            "18 / 5 = 3.6\n"
          ],
          "name": "stdout"
        }
      ]
    },
    {
      "cell_type": "code",
      "metadata": {
        "id": "wyxpF1YmK7l_",
        "outputId": "0d72a3ba-5cda-4c08-accb-e2af48d2c50c",
        "colab": {
          "base_uri": "https://localhost:8080/",
          "height": 68
        }
      },
      "source": [
        "#명령이 끝난 후엔 반환! return\n",
        "#함수는 함수 내부에서 연산한 결과를 함수 밖으로 전달할 수 있습니다. 이를 return(반환)이라고 합니다.\n",
        "\n",
        "#ex)\n",
        "def plus(a,b):\n",
        "    return a+b\n",
        "\n",
        "var1 = plus(3,4)\n",
        "print(var1)\n",
        "\n",
        "#이렇게 해봐요!\n",
        "#1.함수 plus_print()을 만들어봅시다.\n",
        "#1-1.매개변수 : a, b / 함수 안에서 a와 b를 더한 값을 출력\n",
        "#1-2.반환값 없음.\n",
        "def plus_print(a,b):\n",
        "    print(a+b)\n",
        "\n",
        "#2.함수 times_return()을 만들어봅시다.\n",
        "#2-1.매개변수 : a, b\n",
        "#2-2.반환값 a와 b를 곱한 결과.\n",
        "def times_return(a,b):\n",
        "    return a*b\n",
        "\n",
        "#3.함수를 작성한 후, 다음과 같이 출력되도록 코드를 작성해봅시다.\n",
        "#3-1.plus_print()으로 숫자 3과 4의 합을 출력해봅시다.\n",
        "#3-2.print()와 times_return()으로 숫자 3과 4의 곱을 출력해봅시다.\n",
        "plus_print(3,4)\n",
        "print(times_return(3,4))\n",
        "\n",
        "\n",
        "\n",
        "#Tip! print()안에 함수와 인자를 넣으면 그 함수의 반환값을 출력합니다."
      ],
      "execution_count": null,
      "outputs": [
        {
          "output_type": "stream",
          "text": [
            "7\n",
            "7\n",
            "12\n"
          ],
          "name": "stdout"
        }
      ]
    },
    {
      "cell_type": "code",
      "metadata": {
        "id": "2xahJm9CQ0wp",
        "outputId": "09731dd3-66d4-41b9-a70b-625f025879dc",
        "colab": {
          "base_uri": "https://localhost:8080/",
          "height": 68
        }
      },
      "source": [
        "#같은 의미라도 지역에 따라 다르게 부르죠!\n",
        "#변수는 어디에서 선언되었는지에 따라 크게 지역변수와 전역변수로 나뉩니다.\n",
        "\n",
        "#지역 변수는 함수 내부에서 선언된 변수로, 함수가 종료되면 소멸합니다. 따라서 함수 외부에서 지역 변수를 참조할 수 없습니다.\n",
        "#전역 변수는 함수 외부에서 선언된 변수로, 어디서든지 사용이 가능합니다.\n",
        "\n",
        "\n",
        "# 다음은 표준어로 \"밥 먹었어요?\"가 담긴 변수 greeting입니다.\n",
        "greeting = \"밥 먹었어요?\"\n",
        "\n",
        "# 이를 print로 출력하면 다음과 같습니다.\n",
        "print(\"서울 :\",greeting)\n",
        "\n",
        "# 함수 busan을 선언하고, 그 안에 변수 greeting에 \"밥 뭇나?\"를 넣어봅시다.\n",
        "def busan():\n",
        "    greeting = \"밥 뭇나?\"\n",
        "    print(\"부산 :\",greeting)\n",
        "    \n",
        "# 함수 busan을 실행해보세요.\n",
        "busan()\n",
        "\n",
        "# 변수 greeting을 출력해보세요.\n",
        "print(greeting)"
      ],
      "execution_count": null,
      "outputs": [
        {
          "output_type": "stream",
          "text": [
            "서울 : 밥 먹었어요?\n",
            "부산 : 밥 뭇나?\n",
            "밥 먹었어요?\n"
          ],
          "name": "stdout"
        }
      ]
    },
    {
      "cell_type": "code",
      "metadata": {
        "id": "IeNiTWH-VP7I",
        "outputId": "eb6a81a6-6eea-4005-d127-bbdf522ff77e",
        "colab": {
          "base_uri": "https://localhost:8080/",
          "height": 85
        }
      },
      "source": [
        "#친구가 있는 함수? 메서드!\n",
        "#함수 중에서 특정 자료와 함께 사용되는 함수가 있습니다. 우리는 그것을 메서드라고 부릅니다.\n",
        "#메서드 : 자료.메서드이름()\n",
        "\n",
        "my_list = [5,4,3,2,1]\n",
        "\n",
        "my_list.append(5) #원소를 추가하는 메서드\n",
        "print(my_list)\n",
        "my_list.sort() #정렬하는 메서드\n",
        "print(my_list)\n",
        "\n",
        "\n",
        "#이렇게 해봐요!\n",
        "#1.대응 관계가 3개 있는 Dictionary를 만들고, 이를 변수 my_dict에 넣어봅시다.\n",
        "my_dict = {\"Hello\":\"안녕\",\"Bye\":\"잘가\", \"Thank_you\":\"고마워\"}\n",
        "\n",
        "#2.다음 두 메서드를 이용해서, Dictionary의 Key값들을 담은 변수 var1과 Value값들을 담은 변수 var2를 만들어봅시다.\n",
        "\n",
        "#딕셔너리.keys() : Dictionary형 dict의 모든 Key를 반환\n",
        "#딕셔너리.values() : Dictionary형 dict의 모든 Value를 반환\n",
        "var1 = my_dict.keys() #var1 = (\"Hello\",\"Bye\",\"Thank_you\")\n",
        "var2 = my_dict.values() #var2 = (\"안녕\",\"잘가\",\"고마워\")\n",
        "\n",
        "print(var1)\n",
        "print(var2)\n",
        "#Tip! 딕셔너리는 다음과 같이 만들 수 있습니다! 딕셔너리 = {키:값, 키:값}"
      ],
      "execution_count": null,
      "outputs": [
        {
          "output_type": "stream",
          "text": [
            "[5, 4, 3, 2, 1, 5]\n",
            "[1, 2, 3, 4, 5, 5]\n",
            "dict_keys(['Hello', 'Bye', 'Thank_you'])\n",
            "dict_values(['안녕', '잘가', '고마워'])\n"
          ],
          "name": "stdout"
        }
      ]
    },
    {
      "cell_type": "code",
      "metadata": {
        "id": "8digQw1WWwW8",
        "outputId": "6804913b-d86f-47ad-83d8-bce05e936e5e",
        "colab": {
          "base_uri": "https://localhost:8080/",
          "height": 68
        }
      },
      "source": [
        "#인자와 매개변수, 닮은 듯 다르다!\n",
        "#함수를 공부하다보면 인자와 매개변수에 대한 이야기가 나옵니다. 이 둘은 비슷해 보이지만, 다른 뜻입니다.\n",
        "\n",
        "#매개변수(parameter) : 함수를 정의할 때(만들 때) 넘겨받은 값을 관리하는 변수\n",
        "#인자(argument) : 함수를 호출할 때(사용할 때) 함수로 넘겨주는 자료\n",
        "\n",
        "def plusDouble(a, b): #이때 a, b는 매개변수!\n",
        "    return 2*(a+b)\n",
        "\n",
        "print(plusDouble(3, 4)) #이때 3, 4는 인자!\n",
        "# 함수 호출시\n",
        "# a = 3\n",
        "# b = 4\n",
        "# 로 간주\n",
        "\n",
        "\n",
        "#이렇게 해봐요!\n",
        "#1.함수 solve()를 만들어봅시다. 이 함수의 매개변수는 a와 b입니다.\n",
        "#1-1.이 함수는 a와 b를 곱한 것을 반환합니다.\n",
        "def solve(a,b):\n",
        "    return a*b\n",
        "    \n",
        "#2.이 함수에 숫자 3과 4를 인자로 넣어서 반환되는 값을 변수 var1에 넣어봅시다.\n",
        "var1 = solve(3,4)\n",
        "\n",
        "#3.이 함수에 숫자 3과 리스트 [‘Cham’]을 인자로 넣어서 반환되는 값을 변수 var2에 넣어봅시다.\n",
        "var2 = solve(3,['Cham'])\n",
        "\n",
        "print(var1)\n",
        "print(var2)\n",
        "\n",
        "#Tip! 함수 이름이나 원소의 대소문자 구분에 주의하세요!\n"
      ],
      "execution_count": null,
      "outputs": [
        {
          "output_type": "stream",
          "text": [
            "14\n",
            "12\n",
            "['Cham', 'Cham', 'Cham']\n"
          ],
          "name": "stdout"
        }
      ]
    },
    {
      "cell_type": "code",
      "metadata": {
        "id": "qbcw9xo8XZnq",
        "outputId": "df276a68-b10f-405c-88aa-d5db85e52244",
        "colab": {
          "base_uri": "https://localhost:8080/",
          "height": 34
        }
      },
      "source": [
        "#내장 함수를 사용할 수 없다면? 직접 함수를 만들어봐요!\n",
        "#이전 실습에서는 max()를 이용해서 최댓값을 구했었는데요, 이번 실습에서는 직접 #최댓값을 구하는 함수 our_max() 함수를 구현해봅시다!\n",
        "\n",
        "#이렇게 해봐요!\n",
        "#max()를 사용하지 않고, 어떤 리스트를 인자로 넘겨주면 그 리스트의 최댓값을 반환(return) 하는 함수 our_max()를 만들어봅시다.\n",
        "#1.리스트 nums를 넣었을 때, 최댓값을 반환(return)하는 함수 our_max를 작성해봅시다.\n",
        "def our_max(nums):\n",
        "    return max(nums)\n",
        "    #nums = 출력할 때 넣을 인자\n",
        "\n",
        "print(our_max([1, 2, 10, 9, 3, 7, 0, 99, 27, 85]))"
      ],
      "execution_count": null,
      "outputs": [
        {
          "output_type": "stream",
          "text": [
            "99\n"
          ],
          "name": "stdout"
        }
      ]
    },
    {
      "cell_type": "code",
      "metadata": {
        "id": "1RdNd81sZoU0",
        "outputId": "781178d9-64ab-4b45-b0c9-7290a39d412d",
        "colab": {
          "base_uri": "https://localhost:8080/",
          "height": 34
        }
      },
      "source": [
        "#환상의 나라로! 유진이는 국내 최고의 도시 용인에 있는 네버랜드에 도착했습니다. 네버랜드에는 정말 많은 놀이기구가 있어서 유진이는 특별한 순서로 놀이기구를 타기로 결정했습니다.\n",
        "\n",
        "#각 놀이기구의 대기시간이 담긴 리스트가 인자로 주어졌을 때, 유진이가 놀이기구를 타는 순서로 대기시간을 정렬한 함수 neverland()를 만들어봅시다.\n",
        "\n",
        "#이렇게 해봐요!\n",
        "#1.대기시간을 다음의 조건에 맞게 정렬하는 함수 neverland()를 작성해봅시다.\n",
        "#2.대기시간이 가장 짧은 놀이기구부터 오름차순으로 놀이기구를 탑니다.\n",
        "#3.단, 인덱스 2에 해당하는 놀이기구는 유진이가 꼭 타고 싶어하는 놀이기구이기에 대기시간에 상관없이 가장 먼저 탑니다.\n",
        "#인자 : 리스트 queue\n",
        "#반환값 : 주어진 조건에 맞게 정렬된 리스트\n",
        "\n",
        "def neverland(i):\n",
        "    first = i[2]\n",
        "    i.remove(first)\n",
        "    i.sort()\n",
        "    i.insert(0,first)\n",
        "    return i\n",
        "\n",
        "# 확인을 위한 코드입니다.\n",
        "# 대기시간이 담긴 리스트 queue를 자유롭게 수정해보세요!\n",
        "queue = [30, 10, 20, 50, 40, 60]\n",
        "print(neverland(queue))\n"
      ],
      "execution_count": null,
      "outputs": [
        {
          "output_type": "stream",
          "text": [
            "[20, 10, 30, 40, 50, 60]\n"
          ],
          "name": "stdout"
        }
      ]
    },
    {
      "cell_type": "code",
      "metadata": {
        "id": "vQXjn2Dic4BO",
        "outputId": "44051a4f-61a5-41d0-e34d-416908d3adf9",
        "colab": {
          "base_uri": "https://localhost:8080/",
          "height": 51
        }
      },
      "source": [
        "# 하고싶은 대로만 한다면 다 된다고 믿어!\n",
        "# 엘리스 홈페이지의 비밀번호를 어떻게 설정할지 고민이 많던 건웅은 듣고 있던 노래 윤하 - 비밀번호 486에서 영감을 받아 다음과 같이 비밀번호를 만들기로 했습니다.\n",
        "# 4 = love / 6 = kiss / 8 = smile\n",
        "# 예를 들어 '48686'의 숫자가 입력되면\n",
        "# 'lovesmilekisssmilekiss'와 같은 문자열 비밀번호를 반환합니다.\n",
        "\n",
        "# 이렇게 해봐요!\n",
        "# 주어진 조건에 맞는 비밀번호를 만들어주는 함수 yoonHa()를 만들어봅시다.\n",
        "\n",
        "# 인자 : 숫자 nums\n",
        "# 반환값 : 변환한 비밀번호 문자열\n",
        "\n",
        "# Hints!\n",
        "# 1.문자열의 각 글자를 반복 인자로 사용할 수 있어요.\n",
        "# for i in \"486\":\n",
        "#    print(i)\n",
        "\n",
        "# 2.문자열에 연산자를 사용해 간단하게 문자열을 붙일 수 있어요.\n",
        "# str1 = \"\" #'따옴표'는 문자열인걸 알려주는것\n",
        "# str2 = \"love\"\n",
        "# str1 = str2 + str2 + str2\n",
        "# print(str1) #lovelovelove\n",
        "\n",
        "# 3.사전형 자료형을 활용하면 더욱 쉽게 문제를 해결할 수 있어요.\n",
        "# 4.입력되는 수는 4, 8, 6 만 있어요.\n",
        "# 5.예시로 주어진 486은 예시예요. 모든 4, 8, 6의 조합에 대해 만족하도록 코드를 작성해주세요.\n",
        "\n",
        "\n",
        "# 채점을 위한 코드입니다. 이를 수정하지 마세요!\n",
        "\n",
        "\n",
        "\n",
        "password = {\"4\": \"love\", \"8\": \"smile\", \"6\": \"kiss\"}\n",
        "\n",
        "def yoonHa(nums):\n",
        "    words = str(nums)\n",
        "    str1 = \"\"\n",
        "    for i in words:\n",
        "        str1 = str1 + password[i]\n",
        "    return str1\n",
        "\n",
        "nums = int(input())\n",
        "print(yoonHa(nums))"
      ],
      "execution_count": null,
      "outputs": [
        {
          "output_type": "stream",
          "text": [
            "48686\n",
            "lovesmilekisssmilekiss\n"
          ],
          "name": "stdout"
        }
      ]
    },
    {
      "cell_type": "code",
      "metadata": {
        "id": "YYINByv1tlcQ",
        "outputId": "2623b155-0a95-4990-b7ab-d78812102495",
        "colab": {
          "base_uri": "https://localhost:8080/",
          "height": 187
        }
      },
      "source": [
        "str1 = \"\"\n",
        "str2 = \"love\"\n",
        "str1 = str2 + str2 + str2\n",
        "print(str1)\n",
        "\n",
        "str1 = \"\"\n",
        "my_list = [\"apple\",\"banana\",\"cherry\"]\n",
        "for i in \"749837982\":\n",
        "  str1 = str1 + i\n",
        "  print(str1)"
      ],
      "execution_count": null,
      "outputs": [
        {
          "output_type": "stream",
          "text": [
            "lovelovelove\n",
            "7\n",
            "74\n",
            "749\n",
            "7498\n",
            "74983\n",
            "749837\n",
            "7498379\n",
            "74983798\n",
            "749837982\n"
          ],
          "name": "stdout"
        }
      ]
    }
  ]
}