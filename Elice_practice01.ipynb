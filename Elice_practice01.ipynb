{
  "nbformat": 4,
  "nbformat_minor": 0,
  "metadata": {
    "colab": {
      "name": "Elice_practice01",
      "provenance": [],
      "authorship_tag": "ABX9TyPACpePQHJx5w8R1Iz/pLD8",
      "include_colab_link": true
    },
    "kernelspec": {
      "name": "python3",
      "display_name": "Python 3"
    }
  },
  "cells": [
    {
      "cell_type": "markdown",
      "metadata": {
        "id": "view-in-github",
        "colab_type": "text"
      },
      "source": [
        "<a href=\"https://colab.research.google.com/github/gparkkii/python_practice/blob/master/Elice_practice01.ipynb\" target=\"_parent\"><img src=\"https://colab.research.google.com/assets/colab-badge.svg\" alt=\"Open In Colab\"/></a>"
      ]
    },
    {
      "cell_type": "markdown",
      "metadata": {
        "id": "xUmYYdh5BIH3",
        "colab_type": "text"
      },
      "source": [
        "# [입문선택] 인공지능 활용을 위한 파이썬 기초\n",
        "\n",
        "**01 기초 자료형 : Python으로의 초대**\n",
        "\n",
        "많은 언어 중 우리는 왜 파이썬을 배워야 할까요? 파이썬을 배우기 위한 기초적인 재료에 대해서 배워봅시다."
      ]
    },
    {
      "cell_type": "code",
      "metadata": {
        "id": "o2MfgTbRA8V4",
        "colab_type": "code",
        "colab": {
          "base_uri": "https://localhost:8080/",
          "height": 71
        },
        "outputId": "d4881c8e-d79a-4d4d-8266-9c52f96e2f65"
      },
      "source": [
        "#print() 사용하기\n",
        "\n",
        "print(\"바밤바는\")\n",
        "print(\"밤이들어간\")\n",
        "print(\"바이다\")"
      ],
      "execution_count": 1,
      "outputs": [
        {
          "output_type": "stream",
          "text": [
            "바밤바는\n",
            "밤이들어간\n",
            "바이다\n"
          ],
          "name": "stdout"
        }
      ]
    },
    {
      "cell_type": "code",
      "metadata": {
        "id": "qa3LXfpNBnp9",
        "colab_type": "code",
        "colab": {
          "base_uri": "https://localhost:8080/",
          "height": 71
        },
        "outputId": "a02ea039-930b-43a5-b4d5-bd72ba668511"
      },
      "source": [
        "#자료형 출력하기\n",
        "\n",
        "#숫자 50과 숫자 50을 더해서 출력해봅시다!\n",
        "print(50+50)\n",
        "\n",
        "#문자열 \"50\"과 문자열 \"50\"을 더해서 출력해봅시다!\n",
        "print(\"50\"+\"50\")\n",
        "\n",
        "#리스트 [50]과 리스트 [50]을 더해서 출력해봅시다!\n",
        "print([50]+[50])"
      ],
      "execution_count": 2,
      "outputs": [
        {
          "output_type": "stream",
          "text": [
            "100\n",
            "5050\n",
            "[50, 50]\n"
          ],
          "name": "stdout"
        }
      ]
    },
    {
      "cell_type": "code",
      "metadata": {
        "id": "A7heaAw9B-vP",
        "colab_type": "code",
        "colab": {
          "base_uri": "https://localhost:8080/",
          "height": 107
        },
        "outputId": "132f3f28-a18b-46f2-ad8b-61ea4d772553"
      },
      "source": [
        "#변수의 사용 방법을 배워봅시다.\n",
        "\n",
        "# 변수에는 정수, 실수같은 숫자를 저장할 수 있고,\n",
        "num1 = 1\n",
        "num2 = 2 \n",
        "# 영어나 한글같은 문자도 저장할 수 있어요.\n",
        "character = 'a'\n",
        "\n",
        "# 이런 문자들의 집합도 저장할 수 있고,\n",
        "string = 'Python'\n",
        "\n",
        "# 자료들을 여러 개 담을 수 있는 리스트 또한 저장할 수 있어요.\n",
        "threeList = [1, 'a', 'Python']\n",
        "\n",
        "# 여러분의 변수를 만들어 봅시다. my_var라는 이름의 변수를 만들고, 원하는 값을 넣어보세요!\n",
        "my_var = 190611\n",
        "\n",
        "# 변수는 print()에 넣을 수도 있어요! my_var를 print로 출력해서 값이 잘 들어갔는지 확인해봅시다!\n",
        "print(my_var)\n",
        "\n",
        "# 변수끼리는 연산 또한 가능합니다. 예를들어, 위에 있는 num1, num2을 더하면?!\n",
        "print(num1+num2)\n",
        "\n",
        "print(character)\n",
        "print(string)\n",
        "print(threeList)"
      ],
      "execution_count": 3,
      "outputs": [
        {
          "output_type": "stream",
          "text": [
            "190611\n",
            "3\n",
            "a\n",
            "Python\n",
            "[1, 'a', 'Python']\n"
          ],
          "name": "stdout"
        }
      ]
    },
    {
      "cell_type": "code",
      "metadata": {
        "id": "NdX4JgxoCQAY",
        "colab_type": "code",
        "colab": {
          "base_uri": "https://localhost:8080/",
          "height": 35
        },
        "outputId": "713596dd-e872-479a-ca58-853018a3453b"
      },
      "source": [
        "#파이썬의 사칙연산\n",
        "\n",
        "#'Num1'이라는 변수를 하나 선언하고, 숫자 23571를 넣어줍시다.\n",
        "Num1 = 23571\n",
        "\n",
        "#'Num2'이라는 변수를 하나 선언하고, 이전 값에 1024를 곱한 값을 넣어줍시다.\n",
        "Num2 = Num1 * 1024\n",
        "\n",
        "#'Num3'이라는 변수를 하나 선언하고, 이전 값에 243을 나눈 값을 넣어줍시다.\n",
        "Num3 = Num2 / 243\n",
        "\n",
        "#'Num4'이라는 변수를 하나 선언하고, 이전 값에 4927819을 더한 값을 넣어줍시다.\n",
        "Num4 = Num3 + 4927819\n",
        "\n",
        "#'Answer'이라는 변수를 하나 선언하고, 이전 값에 829176을 뺀 값을 넣어줍시다.\n",
        "Answer = Num4 - 829176\n",
        "\n",
        "#지효에게 외쳐봅시다. '네가 생각한 답은 Answer원이야!'\n",
        "print(\"네가 생각한 답은\", Answer, \"원이야!\")"
      ],
      "execution_count": 4,
      "outputs": [
        {
          "output_type": "stream",
          "text": [
            "네가 생각한 답은 4197971.0 원이야!\n"
          ],
          "name": "stdout"
        }
      ]
    },
    {
      "cell_type": "code",
      "metadata": {
        "id": "q9ngrf3SCaq6",
        "colab_type": "code",
        "colab": {
          "base_uri": "https://localhost:8080/",
          "height": 35
        },
        "outputId": "09251b20-2b93-407d-b6a4-339f3e6ba13f"
      },
      "source": [
        "#숫자형 연산 중에서는 몫을 구하는 연산자(//), 나머지를 구하는 연산자(%), 거듭제곱(**)을 구하는 연산자가 있습니다.\n",
        "#우리가 원하는 값을 알고 있을때, //, %, **을 이용해서 이 값이 나오는 수식을 작성해봅시다.\n",
        "\n",
        "# //을 이용해서 변수 intdiv에 4를 넣는 수식을 작성해봅시다.\n",
        "intdiv = 21 // 5\n",
        "\n",
        "# %을 이용해서 변수 modular에 1을 넣는 수식을 작성해봅시다.\n",
        "modular = 7 % 3\n",
        "\n",
        "# **을 이용해서 변수 expo에 16을 넣는 수식을 작성해봅시다.\n",
        "expo = 4**2\n",
        "\n",
        "#위의 세 변수를 출력해서 확인해봅시다.\n",
        "print(intdiv, modular, expo)"
      ],
      "execution_count": 5,
      "outputs": [
        {
          "output_type": "stream",
          "text": [
            "4 1 16\n"
          ],
          "name": "stdout"
        }
      ]
    },
    {
      "cell_type": "code",
      "metadata": {
        "id": "TbIQ74YCCsUl",
        "colab_type": "code",
        "colab": {
          "base_uri": "https://localhost:8080/",
          "height": 35
        },
        "outputId": "eade7a9f-5b9c-467d-8f67-528679307325"
      },
      "source": [
        "#문자열 연산을 해봅시다!\n",
        "\n",
        "# 변수 connect_str를 선언하고, 연결 연산자를 이용해서 '덩덕쿵덕'를 넣어봅시다.\n",
        "connect_str = \"덩덕\" + \"쿵덕\"\n",
        "\n",
        "# 변수 iterate_str를 선언하고 반복 연산자를 이용해서 '쿵덕쿵덕'을 넣어봅시다.\n",
        "iterate_str = \"쿵덕\"*2\n",
        "\n",
        "# 위 두 변수를 이용해서 '덩덕쿵덕쿵덕쿵덕덩덕쿵덕쿵덕쿵덕'을 변수 jajinmori에 넣어봅시다\n",
        "jajinmori = (connect_str + iterate_str)*2\n",
        "\n",
        "print(jajinmori)"
      ],
      "execution_count": 6,
      "outputs": [
        {
          "output_type": "stream",
          "text": [
            "덩덕쿵덕쿵덕쿵덕덩덕쿵덕쿵덕쿵덕\n"
          ],
          "name": "stdout"
        }
      ]
    },
    {
      "cell_type": "code",
      "metadata": {
        "id": "NPLymOdNC5Wa",
        "colab_type": "code",
        "colab": {
          "base_uri": "https://localhost:8080/",
          "height": 53
        },
        "outputId": "e15f3fca-9d5f-477b-dca7-b1c7f9c00109"
      },
      "source": [
        "#인덱싱 & 슬라이싱\n",
        "\n",
        "#dahyun가 가지고 있는 보석 중에 특별히 빛나는 보석이 있어요! 이를 훔쳐볼까요?\n",
        "dahyun = ['은', '은', '다이아몬드', '은', '은', '은', '은', '은']\n",
        "\n",
        "#이 가방에 한번 넣어봅시다!\n",
        "stealBag1 = dahyun[2]\n",
        "\n",
        "#tzuyu는 금빛 보석을 많이 가지고 있네요! 이도 한번 훔쳐볼까요?\n",
        "tzuyu = ['은', '은', '은', '은', '금', '금', '금', '은', '은', '은']\n",
        "\n",
        "#이 가방에 한번 넣어봅시다!\n",
        "stealBag2 = tzuyu[4:7]\n",
        "\n",
        "#여러분이 훔쳐온 보석은 무엇인지 print()를 이용해서 한번 확인해보세요!\n",
        "print('dahyun로부터 훔쳐온 보석은', stealBag1)\n",
        "print('tzuyu로부터 훔쳐온 보석은', stealBag2)"
      ],
      "execution_count": 7,
      "outputs": [
        {
          "output_type": "stream",
          "text": [
            "dahyun로부터 훔쳐온 보석은 다이아몬드\n",
            "tzuyu로부터 훔쳐온 보석은 ['금', '금', '금']\n"
          ],
          "name": "stdout"
        }
      ]
    },
    {
      "cell_type": "code",
      "metadata": {
        "id": "OwsJzPg1DBk5",
        "colab_type": "code",
        "colab": {
          "base_uri": "https://localhost:8080/",
          "height": 107
        },
        "outputId": "15139d37-6d66-4597-a040-743b05ad1024"
      },
      "source": [
        "# practice question 01\n",
        "#*\n",
        "#**\n",
        "#***\n",
        "#****\n",
        "#*****\n",
        "#print * in a low\n",
        "\n",
        "print('*')\n",
        "print('*'*2)\n",
        "print('*'*3)\n",
        "print('*'*4)\n",
        "print('*'*5)"
      ],
      "execution_count": 9,
      "outputs": [
        {
          "output_type": "stream",
          "text": [
            "*\n",
            "**\n",
            "***\n",
            "****\n",
            "*****\n"
          ],
          "name": "stdout"
        }
      ]
    },
    {
      "cell_type": "code",
      "metadata": {
        "id": "HbZyLwyWDYpF",
        "colab_type": "code",
        "colab": {
          "base_uri": "https://localhost:8080/",
          "height": 35
        },
        "outputId": "2d716e05-3e42-4c6e-93ce-847eaf3bf0f5"
      },
      "source": [
        "# practice question 02\n",
        "#섭씨를 화씨로 변환해봅시다!\n",
        "\n",
        "#섭씨온도를 담을 변수 c를 선언하고, 숫자 18을 담아봅시다.\n",
        "c = 18\n",
        "\n",
        "#화씨온도를 담을 변수 f를 선언하고, c와 섭씨-화씨 변환식을 이용해서 값을 담아봅시다.\n",
        "f = c * (9/5) + 32\n",
        "\n",
        "#변수 today_temp를 선언하고, 섭씨온도 c와 화씨온도 f를 순서대로 담은 리스트를 담아봅시다.\n",
        "today_temp = [c,f]\n",
        "\n",
        "#맞게 변환했는지 today_temp를 print()로 확인해봅시다.\n",
        "print(today_temp)"
      ],
      "execution_count": 10,
      "outputs": [
        {
          "output_type": "stream",
          "text": [
            "[18, 64.4]\n"
          ],
          "name": "stdout"
        }
      ]
    }
  ]
}